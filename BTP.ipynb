{
  "nbformat": 4,
  "nbformat_minor": 0,
  "metadata": {
    "accelerator": "GPU",
    "colab": {
      "name": "BTP.ipynb",
      "provenance": [],
      "collapsed_sections": [],
      "include_colab_link": true
    },
    "kernelspec": {
      "display_name": "Python 3",
      "name": "python3"
    }
  },
  "cells": [
    {
      "cell_type": "markdown",
      "metadata": {
        "id": "view-in-github",
        "colab_type": "text"
      },
      "source": [
        "<a href=\"https://colab.research.google.com/github/AbhayMudgal/BTP/blob/main/BTP.ipynb\" target=\"_parent\"><img src=\"https://colab.research.google.com/assets/colab-badge.svg\" alt=\"Open In Colab\"/></a>"
      ]
    },
    {
      "cell_type": "code",
      "metadata": {
        "id": "64J5STQ6tNzm"
      },
      "source": [
        "import numpy as np\n",
        "import math\n",
        "import matplotlib.pyplot as plt\n",
        "import seaborn as sns\n",
        "import random\n",
        "from PIL import Image, ImageOps"
      ],
      "execution_count": null,
      "outputs": []
    },
    {
      "cell_type": "code",
      "metadata": {
        "id": "IX7NuKwLc13g"
      },
      "source": [
        "def add(x, y):\n",
        "  return x + y\n",
        "\n",
        "def sub(x, y):\n",
        "  return x - y\n",
        "\n",
        "def mul(x, y):\n",
        "  return x*y\n",
        "\n",
        "def div(x, y):\n",
        "  if (y==0):\n",
        "    print(x)\n",
        "    print(y)\n",
        "  return x/y\n",
        "\n",
        "def mod(x, y):\n",
        "  return x%y\n",
        "\n",
        "def P(G, b, v, x, y):\n",
        "  ans = (G*b*(1+v)*y)/(3*3.1417*(1-v)*(x**2 + y**2))\n",
        "  return ans\n",
        "\n",
        "def E(P, delv):\n",
        "  return mul(P*-1, delv)\n",
        "\n",
        "def B(delE, k, T):\n",
        "  U = math.exp(div(-delE, mul(k, T)))\n",
        "  return min(U, 1)"
      ],
      "execution_count": null,
      "outputs": []
    },
    {
      "cell_type": "code",
      "metadata": {
        "id": "nAfhecowtRZa"
      },
      "source": [
        "#entering parameters and calculating the number of solute atoms.\n",
        "conc = int (input(\"Enter percentage concentration of solute: \"))\n",
        "shear_mod = float (input(\"Enter Isotropic Shear Modulus: \"))\n",
        "poisson = float (input('Enter Poisson Ratio: '))\n",
        "vs = float (input(\"Enter Volume of Solute: \"))\n",
        "va = float (input(\"Enter Volume of Atom: \"))\n",
        "\n",
        "#mobility_dislocation = float(input(\"Enter Mobility of Dislocation: \"))\n",
        "#mobility_solute = float(input(\"Enter Mobility of Solute: \"))\n",
        "\n",
        "delv = sub(vs, va)\n",
        "sol = mul((l*w)/100, conc)"
      ],
      "execution_count": null,
      "outputs": []
    },
    {
      "cell_type": "code",
      "metadata": {
        "id": "gcXHv2mawCgy"
      },
      "source": [
        "print(sol) "
      ],
      "execution_count": null,
      "outputs": []
    },
    {
      "cell_type": "code",
      "metadata": {
        "id": "MbGNdTUfvFQp"
      },
      "source": [
        "\n",
        "#initializing array  and randomly distributing solutes in the matrix\n",
        "array = np.zeros((10, 10), int)\n",
        "l = array.shape[0]\n",
        "w = array.shape[1]\n",
        "sol_loc = []\n",
        "loc_set = set()\n",
        "\n",
        "a = 0\n",
        "while (a < sol):\n",
        "  for i in range(l):\n",
        "    for j in range(w):\n",
        "      num = random.randint(0, 50)\n",
        "      \n",
        "      if (num>47):\n",
        "        array[i][j] = 1\n",
        "        sol_loc.append([i, j])\n",
        "        loc_set.add((i, j))\n",
        "        a = a+1    \n",
        "      \n",
        "      if (a==sol): \n",
        "        break\n",
        "    \n",
        "    if (a==sol): \n",
        "      break \n",
        "\n",
        "array[int (l/2)][int (w/2)] = -1\n",
        "loc_set.add((l/2, w/2))"
      ],
      "execution_count": null,
      "outputs": []
    },
    {
      "cell_type": "code",
      "metadata": {
        "id": "QIU7fjTGggP0"
      },
      "source": [
        "print(array)"
      ],
      "execution_count": null,
      "outputs": []
    },
    {
      "cell_type": "code",
      "metadata": {
        "id": "ob7etIydwIKb"
      },
      "source": [
        "print(sol_loc)"
      ],
      "execution_count": null,
      "outputs": []
    },
    {
      "cell_type": "code",
      "metadata": {
        "id": "cwvnhUBhyPA7"
      },
      "source": [
        "b = np.zeros_like(array)\n",
        "b[array == 0] = 255\n",
        "b[array == 1] =  0\n",
        "image = Image.fromarray(array, mode = \"1\")\n",
        "image = image.convert(\"RGB\")\n",
        "img = ImageOps.invert(image)\n",
        "plt.grid(False)\n",
        "plt.axis('off')\n",
        "\n",
        "plt.imshow(img)"
      ],
      "execution_count": null,
      "outputs": []
    },
    {
      "cell_type": "code",
      "metadata": {
        "id": "AavyLFRVf7PD"
      },
      "source": [
        "#randomly selecting a solute atom.\n",
        "\n",
        "iter = int (input(\"Enter Number of Iterations: \"))\n",
        "\n",
        "for i in range (0, iter):\n",
        "  n = random.randint(0, sol-1)\n",
        "  x = sol_loc[n][0]\n",
        "  y = sol_loc[n][1]\n",
        "  \n",
        "  for i in range(4):\n",
        "    xi = x\n",
        "    yi = y\n",
        "    \n",
        "    if (i==0):\n",
        "      xi = mod(x - 1, l)\n",
        "    elif (i==1):\n",
        "      yi = mod(y - 1, l)\n",
        "    elif (i==2):\n",
        "      xi = mod(x + 1, l)\n",
        "    else:\n",
        "      yi = mod(y + 1, l)\n",
        "    \n",
        "    if ((xi, yi) not in loc_set):\n",
        "      p1 = P(shear_mod, 1, poisson, x-l, y-w)\n",
        "      p2 = P(shear_mod, 1, poisson, xi-l, yi-w)\n",
        "\n",
        "      delE = E(p2, delv) - E(p1, delv)\n",
        "\n",
        "      if (delE<0):\n",
        "        array[x][y] = 0\n",
        "        array[xi][yi] = 1\n",
        "\n",
        "        loc_set.remove((x, y))\n",
        "        loc_set.add((xi, yi))\n",
        "        sol_loc.append([xi, yi])\n",
        "        sol_loc.remove([x, y])\n",
        "        # print(1)\n",
        "        break\n"
      ],
      "execution_count": null,
      "outputs": []
    },
    {
      "cell_type": "code",
      "metadata": {
        "id": "kh7GjwLXngvn"
      },
      "source": [
        "print(loc_set)"
      ],
      "execution_count": null,
      "outputs": []
    },
    {
      "cell_type": "code",
      "metadata": {
        "id": "XMafr9tZD1yD"
      },
      "source": [
        "b = np.zeros_like(array)\n",
        "b[array == 0] = 255\n",
        "b[array == 1] =  0\n",
        "image = Image.fromarray(array, mode = \"1\")\n",
        "image = image.convert(\"RGB\")\n",
        "img = ImageOps.invert(image)\n",
        "plt.grid(False)\n",
        "plt.axis('off')\n",
        "plt.gray()\n",
        "#code for converting ones to dots and rest to empty\n",
        "\n",
        "#\n",
        "#plt.figure(figsize = (400, 400))\n",
        "plt.imshow(img)"
      ],
      "execution_count": null,
      "outputs": []
    }
  ]
}