{
  "nbformat": 4,
  "nbformat_minor": 0,
  "metadata": {
    "colab": {
      "name": "BTP_v3",
      "provenance": [],
      "authorship_tag": "ABX9TyMSqwjEblRLdCxcyQWFTAy2",
      "include_colab_link": true
    },
    "kernelspec": {
      "name": "python3",
      "display_name": "Python 3"
    },
    "language_info": {
      "name": "python"
    }
  },
  "cells": [
    {
      "cell_type": "markdown",
      "metadata": {
        "id": "view-in-github",
        "colab_type": "text"
      },
      "source": [
        "<a href=\"https://colab.research.google.com/github/AbhayMudgal/BTP/blob/main/BTP_v3.ipynb\" target=\"_parent\"><img src=\"https://colab.research.google.com/assets/colab-badge.svg\" alt=\"Open In Colab\"/></a>"
      ]
    },
    {
      "cell_type": "code",
      "metadata": {
        "id": "Z_2sW8DZ7DW7"
      },
      "source": [
        "import numpy as np\n",
        "import math\n",
        "import matplotlib.pyplot as plt\n",
        "import seaborn as sns\n",
        "import random\n",
        "\n",
        "\n",
        "%matplotlib inline \n",
        "#plt.rcParams[\"figure.figsize\"] = (10,10)\n"
      ],
      "execution_count": 1,
      "outputs": []
    },
    {
      "cell_type": "code",
      "metadata": {
        "id": "Zc277Dlo9Cts"
      },
      "source": [
        "def B(delE):\n",
        "  # The metropolis funtion. The multiplier 200 is taken by using the constants\n",
        "  # in ΔE/kT. It will vary is specific systems are used or other values are taken. \n",
        "  \n",
        "  dE = -delE * 200\n",
        "  if dE > 1:\n",
        "    dE = 1\n",
        "  U = math.exp(dE)\n",
        "  if dE < -5:\n",
        "    U = 0\n",
        "  return min(U, 1)\n",
        "\n",
        "def E( X, Y, W, H):\n",
        "  # The Energy funtion for the interaction between solute and dislocation. We do\n",
        "  # not use the values of other variables as they are collectively assumed to a \n",
        "  # value in the metropolis function. \n",
        "  \n",
        "  pi = np.pi\n",
        "  ans = 0\n",
        "  for i in range(-4, 5):\n",
        "    ans += ( np.sin(2*pi*Y) / ( np.cosh(2*pi*(X - (i*W/H))) - np.cos(2* pi *Y)))\n",
        "  \n",
        "  return ans\n",
        "\n",
        "def En(sig, mul):\n",
        "  # Energy function for the dislocation. \n",
        "  E_prime = sig*mul\n",
        "  return E_prime\n",
        "\n",
        "def Bn(delE):\n",
        "  # Meteropolis function for the dislocation\n",
        "  deE = -delE\n",
        "  if deE > 1:\n",
        "    deE = 1\n",
        "  U = math.exp(deE)\n",
        "  if deE < -5:\n",
        "    U = 0\n",
        "  return min(U, 1)\n",
        "\n",
        "def E_tot(sol_loc, x_dis, y_dis, H, W):\n",
        "  # function for calculating the total energy field of the dislocation-solute\n",
        "  # interaction\n",
        "  \n",
        "  E_dis = 0\n",
        "  for [x, y] in sol_loc:\n",
        "    X = (x - x_dis) / W\n",
        "    Y = (y - y_dis) / H\n",
        "    E_dis = E_dis + E(X, Y, W, H)\n",
        "\n",
        "  return E_dis*200\n",
        "\n",
        "def randomize(array, loc_set, sol_loc, H, W):\n",
        "  # function for randimizing the solute atoms when dislocation completes one pass\n",
        "  # through the simulation cell. \n",
        "  \n",
        "  val = 2*W /5 # val can be set to define the number of dislocation atoms whose \n",
        "  # position has to be randomised. \n",
        "\n",
        "  for [x, y] in sol_loc:\n",
        "    flag = True\n",
        "    while flag:\n",
        "      x_new = random.randint(0, W-1)\n",
        "      y_new = random.randint(0, H-1)\n",
        "\n",
        "\n",
        "      if [x_new, y_new] not in sol_loc:\n",
        "        loc_set.remove((x, y))\n",
        "        loc_set.add((x_new, y_new))\n",
        "        sol_loc.remove([x, y])\n",
        "        sol_loc.append([x_new, y_new])\n",
        "        array[x][y] = 0\n",
        "        array[x_new][y_new] = 1\n",
        "        flag = False\n"
      ],
      "execution_count": 20,
      "outputs": []
    },
    {
      "cell_type": "code",
      "metadata": {
        "id": "tPgy0zTHg8yQ"
      },
      "source": [
        "# Code for testing dislocation motion algorithm as described in the paper.\n",
        "# Runnning ths code gives us the results of the case where no solute atoms are \n",
        "# present. \n",
        "\n",
        "W = int (input(\"Enter Width of the simulation cell: \"))\n",
        "H = int (input(\"Enter Height of the simulation cell: \"))\n",
        "iter = int (input(\"Enter number of iterations: \"))\n",
        "mul = float (input(\"Enter Multiplier for external stress in Meteropolis Function: \"))\n",
        "\n",
        "mix = [] # a list to which we will append the displacement vectors for calculating\n",
        "# average velocity for different external stresses.\n",
        "\n",
        "sig = 0.001 # initial external stress.\n",
        "\n",
        "x = [] # a list to which values of external stresses are appended.\n",
        "\n",
        "while sig<=0.04:\n",
        "  array = np.zeros((W, H), int)\n",
        "  x_dis = int (W/2)\n",
        "  y_dis = int (H/2)\n",
        "\n",
        "  array[x_dis][y_dis] = -1\n",
        "\n",
        "\n",
        "  vel = [] # displacement vector.\n",
        "  k = 0 # total distance moved.\n",
        "  i = 0\n",
        "  for i in range(iter):\n",
        "    U = random.randint(0, 1)\n",
        "    \n",
        "    if U == 0: #represents negative jump.\n",
        "      dE = En(sig, mul)\n",
        "      x_dis_new = (x_dis - 1) % W\n",
        "    \n",
        "    else: # represents postive jump.\n",
        "      dE = -En(sig, mul)  \n",
        "      x_dis_new = (x_dis + 1) % W\n",
        "\n",
        "    bd = Bn(dE)\n",
        "    n = random.random()\n",
        "    \n",
        "    if n<bd:\n",
        "      array[x_dis][y_dis] = 0\n",
        "      x_dis = x_dis_new\n",
        "      array[x_dis][y_dis] = -1\n",
        "      k = k + (2*U - 1)\n",
        "    \n",
        "    if i%10000 == 0: # calculate the value for every 10000 steps. \n",
        "      vel.append(k)\n",
        "  \n",
        "  x.append(sig)\n",
        "  sig += 0.001\n",
        "  mix.append(vel)    \n",
        "\n",
        "y = [] \n",
        "# code below calculates the average velocity for each external stress in x and\n",
        "# appends it in y.\n",
        "for row in mix:\n",
        "  sum = row[0]\n",
        "  for i in range(len(row) - 1):\n",
        "     sum += row[i+1] - row[i] \n",
        "  sum = sum / len(row)\n",
        "  y.append(sum/10000)\n",
        "\n",
        "#plotting the velocity vs stress graph.\n",
        "plt.plot(x, y)\n",
        "plt.xlabel(\"External Stress\")\n",
        "plt.ylabel(\"Velocity of Dislocation\")"
      ],
      "execution_count": null,
      "outputs": []
    },
    {
      "cell_type": "code",
      "metadata": {
        "id": "s-0qaxLz9TL7",
        "colab": {
          "base_uri": "https://localhost:8080/"
        },
        "outputId": "e36fd70b-e997-42c3-d1f8-1279cf0c2abf"
      },
      "source": [
        "#entering parameters.\n",
        "conc = float (input(\"Enter percentage concentration of solute: \"))\n",
        "Mr = float (input(\"Enter mobility ratio: \"))\n",
        "mul = float (input(\"Enter Multiplier for external stress in Meteropolis Function: \")) #(100 or 50)"
      ],
      "execution_count": 26,
      "outputs": [
        {
          "output_type": "stream",
          "text": [
            "Enter percentage concentration of solute: 0.3\n",
            "Enter mobility ratio: 0.02\n",
            "Enter Multiplier for external stress in Meteropolis Function: 50\n"
          ],
          "name": "stdout"
        }
      ]
    },
    {
      "cell_type": "code",
      "metadata": {
        "id": "ixIWCIYMRBK5",
        "colab": {
          "base_uri": "https://localhost:8080/"
        },
        "outputId": "9e1ec3ec-8802-4c58-ca4c-c25b07793024"
      },
      "source": [
        "sig = float (input(\"Enter external stress as a function of G: \"))"
      ],
      "execution_count": 32,
      "outputs": [
        {
          "output_type": "stream",
          "text": [
            "Enter external stress as a function of G: 0.03\n"
          ],
          "name": "stdout"
        }
      ]
    },
    {
      "cell_type": "code",
      "metadata": {
        "id": "tlHu6yY9ILuW",
        "colab": {
          "base_uri": "https://localhost:8080/"
        },
        "outputId": "f91678b9-5606-48c3-fc14-ba946b0bbe17"
      },
      "source": [
        "W = int (input(\"Enter Width of the simulation cell: \"))\n",
        "H = int (input(\"Enter Height of the simulation cell: \"))"
      ],
      "execution_count": 12,
      "outputs": [
        {
          "output_type": "stream",
          "text": [
            "Enter Width of the simulation cell: 300\n",
            "Enter Height of the simulation cell: 100\n"
          ],
          "name": "stdout"
        }
      ]
    },
    {
      "cell_type": "code",
      "metadata": {
        "id": "HJ89GtWC9nMo"
      },
      "source": [
        "#initializing array  and randomly distributing solutes in the matrix\n",
        "\n",
        "array = np.zeros((W, H), int)\n",
        "\n",
        "sol_loc = [] # represents an array with the locations of the solute atoms.\n",
        "loc_set = set() # a set containing the locations of the solute atoms and the dislocation. \n",
        "sol = (H*W*conc)/100\n",
        "a = 0\n",
        "R = sol*Mr # Mobility parameter.\n",
        "\n",
        "x_dis = int (W/2)\n",
        "y_dis = int (H/2)\n",
        "\n",
        "array[x_dis][y_dis] = -1\n",
        "loc_set.add((x_dis, y_dis))\n",
        "\n",
        "while (a < sol):\n",
        "  i = random.randint(0, W-1)\n",
        "  j = random.randint(0, H-1)\n",
        "\n",
        "  if array[i][j] == 0:\n",
        "    array[i][j] = 1\n",
        "    a += 1\n",
        "    loc_set.add((i, j))\n",
        "    sol_loc.append([i, j])   \n",
        "      \n",
        "  if (a==sol): \n",
        "    break \n"
      ],
      "execution_count": 36,
      "outputs": []
    },
    {
      "cell_type": "code",
      "metadata": {
        "id": "3n8daw2_dIdP",
        "colab": {
          "base_uri": "https://localhost:8080/",
          "height": 575
        },
        "outputId": "e35b5ede-885f-467b-92be-a871bf9fa422"
      },
      "source": [
        "#projecting the array as image\n",
        "plt.rcParams[\"figure.figsize\"] = (5,10) # represents the dimensions of the image.\n",
        "# can be varied to suit the dimensions of the simulation cell. \n",
        "\n",
        "plt.grid(False)\n",
        "plt.axis('off')\n",
        "image = plt.imshow(array, interpolation='nearest')\n",
        "plt.show()"
      ],
      "execution_count": 37,
      "outputs": [
        {
          "output_type": "display_data",
          "data": {
            "image/png": "[encoded data removed]",
            "text/plain": [
              "<Figure size 360x720 with 1 Axes>"
            ]
          },
          "metadata": {
            "tags": [],
            "needs_background": "light"
          }
        }
      ]
    },
    {
      "cell_type": "code",
      "metadata": {
        "id": "zq_zd0f7-wbG"
      },
      "source": [
        "# The main simulation algorithm. It calculates the parameters and then chooses whether \n",
        "# we move the dislocation or the a solute atom. \n",
        "\n",
        "iter = int (input(\"Enter Number of Iterations: \"))\n",
        "vel = [] # velocity vector\n",
        "disp = 0 # total displacement variable.\n",
        "\n",
        "for i in range (0, iter):\n",
        "   \n",
        "   # The if statement is the code for downloading the of the simulation cell. \n",
        "   # Create a folder image on the device and copy the path and replace it with \n",
        "   # \"Image\" in the below code. This is the most time consuming step. As such for\n",
        "   # only observation we can reduce the frequency of image collection.  \n",
        "   \n",
        "   # array2 = array[x_dis - k:x_dis + k][y_dis - k:y_dis + k]\n",
        "   # array2 a subset of main simulation cell can be used in showing the portion of \n",
        "   # 2k x 2k around the dislocation by replacing array by array2 in the image line. \n",
        "  \n",
        "  # Create an empty folder Image manually at the required location and replace the\n",
        "  # path with \"Image/\" in the code.\n",
        "  if i%1000 == 0:\n",
        "      name = r\"Image/\" + str (int( i/100)) + \".png\"\n",
        "      plt.rcParams[\"figure.figsize\"] = (5,10)\n",
        "      plt.grid(False)\n",
        "      plt.axis('off')\n",
        "      image = plt.imshow(array, interpolation='nearest')\n",
        "      plt.savefig(name)\n",
        "\n",
        "  \n",
        "  if i%1000 == 0:\n",
        "    vel.append(disp)\n",
        "\n",
        "  n = random.randint(0, int (R))\n",
        "  \n",
        "  if n == 0:\n",
        "    # dislocation motion condition.\n",
        "    \n",
        "    k = random.randint(0, 1)\n",
        "    if k == 0:\n",
        "      dE = En(sig, mul)\n",
        "      x_dis_new = (x_dis - 1) % W\n",
        "    \n",
        "    else:\n",
        "      dE = -En(sig, mul)  \n",
        "      x_dis_new = (x_dis + 1) % W\n",
        "\n",
        "    # The following two lines of code consider the influence of solute atoms on the\n",
        "    # dislocation. Although very less compared to the influence of external stress,\n",
        "    # using this should improve the accuracy of the simulation. However it doubles\n",
        "    # the time required to run the simulation. \n",
        "\n",
        "    #delE = E_tot(sol_loc, x_dis_new, y_dis, H, W) - E_tot(sol_loc, x_dis, y_dis, H, W)\n",
        "    #dE = dE + delE\n",
        "    \n",
        "    bd = Bn(dE)\n",
        "    n = random.random()\n",
        "    \n",
        "    if n < bd:\n",
        "      if (x_dis_new, y_dis) not in loc_set:\n",
        "        loc_set.remove((x_dis, y_dis))\n",
        "        loc_set.add((x_dis_new, y_dis))\n",
        "        array[x_dis][y_dis] = 0\n",
        "        array[x_dis_new][y_dis] = -1\n",
        "      else:  \n",
        "        sol_loc.remove([x_dis_new, y_dis])\n",
        "        sol_loc.append([x_dis, y_dis])\n",
        "        array[x_dis][y_dis] = 1\n",
        "        array[x_dis_new][y_dis] = -1\n",
        "\n",
        "      x_dis = x_dis_new\n",
        "      disp = disp + (2*k - 1)\n",
        "    \n",
        "    if x_dis==0:\n",
        "      randomize(array, loc_set, sol_loc, H, W) \n",
        "\n",
        "  else:\n",
        "    # solute motion case\n",
        "    n = random.randint(0, sol-1) # selecting a random solute.\n",
        "    x = sol_loc[n][0]\n",
        "    y = sol_loc[n][1]\n",
        "    \n",
        "    k = random.randint(0, 3)\n",
        "    for i in range(4):\n",
        "      k = (k + i) % 4\n",
        "      xi = x\n",
        "      yi = y\n",
        "\n",
        "      # probable jumps\n",
        "      if (k==0):\n",
        "        xi = (x - 1) % W\n",
        "      elif (k==1):\n",
        "        yi = (y - 1) % H\n",
        "      elif (k==2):\n",
        "        xi = (x + 1) % W\n",
        "      else:\n",
        "        yi = (y + 1) % H\n",
        "      \n",
        "      if ((xi, yi) not in loc_set): # checking if jump is feasible.\n",
        "        \n",
        "        X = (x - x_dis) / W\n",
        "        Y = (y - y_dis) / H\n",
        "        Xi = (xi - x_dis) / W\n",
        "        Yi = (yi - y_dis) / H\n",
        "        \n",
        "\n",
        "        delE = E(Xi, Yi, W, H) - E(X, Y, W, H)\n",
        "        n = random.random()\n",
        "        b = B(delE)\n",
        "\n",
        "        if n < b:\n",
        "          m = random.random()\n",
        "          if delE*200 < 0 or m>0.8:\n",
        "            \n",
        "            # updating simulation cell, set and list.\n",
        "            array[x][y] = 0\n",
        "            array[xi][yi] = 1\n",
        "\n",
        "            loc_set.remove((x, y))\n",
        "            loc_set.add((xi, yi))\n",
        "            sol_loc.append([xi, yi])\n",
        "            sol_loc.remove([x, y])\n",
        "            \n",
        "            break\n",
        "\n"
      ],
      "execution_count": null,
      "outputs": []
    },
    {
      "cell_type": "code",
      "metadata": {
        "id": "FIqNVXqludFe"
      },
      "source": [
        "# if used in colab this code can be used to create a downloadable zip file. \n",
        "!zip -r /content/Image.zip /content/Image"
      ],
      "execution_count": null,
      "outputs": []
    },
    {
      "cell_type": "code",
      "metadata": {
        "id": "pOhTZyo_6scY"
      },
      "source": [
        "from google.colab import drive\n",
        "drive.mount('/content/drive')"
      ],
      "execution_count": null,
      "outputs": []
    },
    {
      "cell_type": "code",
      "metadata": {
        "colab": {
          "base_uri": "https://localhost:8080/"
        },
        "id": "7Pif1-AU_SjJ",
        "outputId": "91b67d50-f5ac-432e-91ae-20e9a1980051"
      },
      "source": [
        "# plotting graph of displacement vs Montecarlo steps.\n",
        "X = []\n",
        "for i in range(1000):\n",
        "  X.append(i/100)\n",
        "\n",
        "Y = []\n",
        "Y.append(vel[0])\n",
        "for i in range(len(vel) - 1):\n",
        "  Y.append(vel[i+1] - vel[i]) \n",
        "\n",
        "plt.rcParams[\"figure.figsize\"] = (5,5)\n",
        "plt.scatter(X, vel)\n",
        "\n",
        "plt.ylabel(\"Displacement of the Dislocation\")\n",
        "plt.xlabel(\"Number of Montecarlo Steps (per 100000)\")"
      ],
      "execution_count": null,
      "outputs": [
        {
          "output_type": "stream",
          "text": [
            "1000\n"
          ],
          "name": "stdout"
        }
      ]
    },
    {
      "cell_type": "code",
      "metadata": {
        "colab": {
          "base_uri": "https://localhost:8080/",
          "height": 303
        },
        "id": "12g-W-dlNWvs",
        "outputId": "01991d78-75f1-4014-d562-b9d158a00033"
      },
      "source": [
        "#plotting graph of the magnified simulation cell after the process is complete.\n",
        "array2 = array[x_dis-50:x_dis+50][y_dis-50:y_dis+50]\n",
        "plt.grid(False)\n",
        "plt.axis('off')\n",
        "plt.rcParams['figure.figsize'] = (5, 5)\n",
        "image = plt.imshow(array2, interpolation='nearest')\n",
        "plt.show()"
      ],
      "execution_count": null,
      "outputs": [
        {
          "output_type": "display_data",
          "data": {
            "image/png": "[encoded data removed]",
            "text/plain": [
              "<Figure size 360x360 with 1 Axes>"
            ]
          },
          "metadata": {
            "tags": [],
            "needs_background": "light"
          }
        }
      ]
    },
    {
      "cell_type": "code",
      "metadata": {
        "colab": {
          "base_uri": "https://localhost:8080/"
        },
        "id": "FsitO7cskiAV",
        "outputId": "539fa30c-9e67-40d6-9d38-193d5f03ede1"
      },
      "source": [
        "#calculating the average velocity of the dislocation. \n",
        "sum = vel[0]\n",
        "for i in range(len(vel) - 1):\n",
        "  sum += vel[i+1] - vel[i] \n",
        "sum = sum / len(vel)\n",
        "\n",
        "print(sum/1000)"
      ],
      "execution_count": null,
      "outputs": [
        {
          "output_type": "stream",
          "text": [
            "0.055531\n"
          ],
          "name": "stdout"
        }
      ]
    },
    {
      "cell_type": "code",
      "metadata": {
        "id": "H45rfs5BhNbu"
      },
      "source": [
        "#plotting image\n",
        "plt.grid(False)\n",
        "plt.axis('off')\n",
        "image = plt.imshow(array, interpolation='nearest')\n",
        "plt.show()"
      ],
      "execution_count": null,
      "outputs": []
    }
  ]
}