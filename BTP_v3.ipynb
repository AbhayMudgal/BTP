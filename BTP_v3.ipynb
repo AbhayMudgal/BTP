{
  "nbformat": 4,
  "nbformat_minor": 0,
  "metadata": {
    "colab": {
      "name": "BTP_v3",
      "provenance": [],
      "authorship_tag": "ABX9TyPkJXxJWSyn6zLG3Aqy4XyC",
      "include_colab_link": true
    },
    "kernelspec": {
      "name": "python3",
      "display_name": "Python 3"
    },
    "language_info": {
      "name": "python"
    }
  },
  "cells": [
    {
      "cell_type": "markdown",
      "metadata": {
        "id": "view-in-github",
        "colab_type": "text"
      },
      "source": [
        "<a href=\"https://colab.research.google.com/github/AbhayMudgal/BTP/blob/main/BTP_v3.ipynb\" target=\"_parent\"><img src=\"https://colab.research.google.com/assets/colab-badge.svg\" alt=\"Open In Colab\"/></a>"
      ]
    },
    {
      "cell_type": "code",
      "metadata": {
        "id": "Z_2sW8DZ7DW7"
      },
      "source": [
        "import numpy as np\n",
        "import math\n",
        "import matplotlib.pyplot as plt\n",
        "import seaborn as sns\n",
        "import random\n",
        "\n",
        "\n",
        "%matplotlib inline \n",
        "plt.rcParams[\"figure.figsize\"] = (10,10)\n"
      ],
      "execution_count": 1,
      "outputs": []
    },
    {
      "cell_type": "code",
      "metadata": {
        "id": "Zc277Dlo9Cts"
      },
      "source": [
        "def B(delE):\n",
        "  # Meteropolis function for the solute atoms\n",
        "  deE = -delE * 200\n",
        "  if deE > 1:\n",
        "    deE = 1\n",
        "  U = math.exp(deE)\n",
        "  if dE < -5:\n",
        "    U = 0\n",
        "  return min(U, 1)\n",
        "\n",
        "def E( X, Y, W, H):\n",
        "  # Energy function for the solute atoms\n",
        "  pi = np.pi\n",
        "  ans = 0\n",
        "  for i in range(-4, 5):\n",
        "    ans += ( np.sin(2*pi*Y) / ( np.cosh(2*pi*(X - (i*W/H))) - np.cos(2* pi *Y)))\n",
        "  \n",
        "  return ans\n",
        "\n",
        "def En(sig, mul):\n",
        "  # Energy function for the dislocation\n",
        "  E_prime = sig*mul\n",
        "  return E_prime\n",
        "\n",
        "def Bn(delE):\n",
        "  # Meteropolis function for the dislocation\n",
        "  deE = delE\n",
        "  if deE > 1:\n",
        "    deE = 1\n",
        "  U = math.exp(deE)\n",
        "  if deE < -5:\n",
        "    U = 0\n",
        "  return min(U, 1)\n",
        "\n",
        "\n",
        "def randomize(array, loc_set, sol_loc):\n"
      ],
      "execution_count": 2,
      "outputs": []
    },
    {
      "cell_type": "code",
      "metadata": {
        "id": "tPgy0zTHg8yQ"
      },
      "source": [
        "#Code for testing dislocation motion algorithm as described in the paper.\n",
        "\n",
        "W = int (input(\"Enter Width of the simulation cell: \"))\n",
        "H = int (input(\"Enter Height of the simulation cell: \"))\n",
        "iter = int (input(\"Enter number of iterations: \"))\n",
        "mul = float (input(\"Enter Multiplier for external stress in Meteropolis Function: \"))\n",
        "\n",
        "cum = []\n",
        "sig = 0.001\n",
        "\n",
        "x = []\n",
        "while sig<=0.04:\n",
        "  array = np.zeros((W, H), int)\n",
        "  x_dis = int (W/2)\n",
        "  y_dis = int (H/2)\n",
        "\n",
        "  array[x_dis][y_dis] = -1\n",
        "\n",
        "\n",
        "  vel = []\n",
        "  k = 0\n",
        "  i = 0\n",
        "  for i in range(iter):\n",
        "    U = random.randint(0, 1)\n",
        "    \n",
        "    if U == 0:\n",
        "      dE = -En(sig, mul)\n",
        "      x_dis_new = (x_dis - 1) % W\n",
        "    \n",
        "    else:\n",
        "      dE = En(sig, mul)  \n",
        "      x_dis_new = (x_dis + 1) % W\n",
        "\n",
        "    bd = Bn(dE)\n",
        "    n = random.random()\n",
        "    \n",
        "    if n<bd:\n",
        "      array[x_dis][y_dis] = 0\n",
        "      x_dis = x_dis_new\n",
        "      array[x_dis][y_dis] = -1\n",
        "      k = k + (2*U - 1)\n",
        "    \n",
        "    if i%10000 == 0:\n",
        "      vel.append(k)\n",
        "  \n",
        "  x.append(sig)\n",
        "  sig += 0.001\n",
        "  cum.append(vel)    \n",
        "\n",
        "y = []\n",
        "for row in cum:\n",
        "  sum = row[0]\n",
        "  for i in range(len(row) - 1):\n",
        "     sum += row[i+1] - row[i] \n",
        "  sum = sum / len(row)\n",
        "  y.append(sum/10000)\n",
        "\n",
        "plt.plot(x, y)\n",
        "plt.xlabel(\"External Stress\")\n",
        "plt.ylabel(\"Velocity of Dislocation\")"
      ],
      "execution_count": 6,
      "outputs": []
    },
    {
      "cell_type": "code",
      "metadata": {
        "colab": {
          "base_uri": "https://localhost:8080/"
        },
        "id": "s-0qaxLz9TL7",
        "outputId": "ec68d0a0-5349-43f5-92a0-dab6a1d9da30"
      },
      "source": [
        "#entering parameters and calculating the number of solute atoms.\n",
        "conc = float (input(\"Enter percentage concentration of solute: \"))\n",
        "Mr = float (input(\"Enter mobility ratio: \"))\n",
        "sig = float (input(\"Enter external stress as a function of G: \"))\n",
        "mul = float (input(\"Enter Multiplier for external stress in Meteropolis Function: \")) #(100 or 50)"
      ],
      "execution_count": null,
      "outputs": [
        {
          "output_type": "stream",
          "text": [
            "Enter percentage concentration of solute: 1\n",
            "Enter mobility ratio: 0.09\n",
            "Enter external stress as a function of G: .03\n",
            "Enter Multiplier for external stress in Meteropolis Function: 100\n"
          ],
          "name": "stdout"
        }
      ]
    },
    {
      "cell_type": "code",
      "metadata": {
        "colab": {
          "base_uri": "https://localhost:8080/"
        },
        "id": "tlHu6yY9ILuW",
        "outputId": "78d695d0-c779-4d8a-a8b8-41e37ad0f427"
      },
      "source": [
        "W = int (input(\"Enter Width of the simulation cell: \"))\n",
        "H = int (input(\"Enter Height of the simulation cell: \"))"
      ],
      "execution_count": null,
      "outputs": [
        {
          "output_type": "stream",
          "text": [
            "Enter Width of the simulation cell: 100\n",
            "Enter Height of the simulation cell: 100\n"
          ],
          "name": "stdout"
        }
      ]
    },
    {
      "cell_type": "code",
      "metadata": {
        "id": "HJ89GtWC9nMo"
      },
      "source": [
        "#initializing array  and randomly distributing solutes in the matrix\n",
        "\n",
        "array = np.zeros((W, H), int)\n",
        "\n",
        "sol_loc = []\n",
        "loc_set = set()\n",
        "sol = (H*W*conc)/100\n",
        "a = 0\n",
        "R = sol*Mr\n",
        "\n",
        "while (a < sol):\n",
        "  for i in range(W):\n",
        "    for j in range(H):\n",
        "      num = random.randint(0, 100)\n",
        "      \n",
        "      if (num==100) and (array[i][j] == 0):\n",
        "        array[i][j] = 1\n",
        "        sol_loc.append([i, j])\n",
        "        loc_set.add((i, j))\n",
        "        a = a+1    \n",
        "      \n",
        "      if (a==sol): \n",
        "        break\n",
        "    \n",
        "    if (a==sol): \n",
        "      break \n",
        "\n",
        "x_dis = int (W/2)\n",
        "y_dis = int (H/2)\n",
        "\n",
        "\n",
        "array[x_dis][y_dis] = -1\n",
        "loc_set.add((x_dis, y_dis))"
      ],
      "execution_count": null,
      "outputs": []
    },
    {
      "cell_type": "code",
      "metadata": {
        "id": "3n8daw2_dIdP"
      },
      "source": [
        "#projecting the array as image\n",
        "plt.grid(False)\n",
        "plt.axis('off')\n",
        "image = plt.imshow(array, interpolation='nearest')\n",
        "plt.show()"
      ],
      "execution_count": null,
      "outputs": []
    },
    {
      "cell_type": "code",
      "metadata": {
        "id": "zq_zd0f7-wbG",
        "colab": {
          "base_uri": "https://localhost:8080/"
        },
        "outputId": "a4d964f7-6bc3-445a-90c0-615b87f98a9e"
      },
      "source": [
        "# The main simulation algorithm. It calculates the parameters and then chooses whether \n",
        "# we move the dislocation or the a solute atom. \n",
        "\n",
        "iter = int (input(\"Enter Number of Iterations: \"))\n",
        "vel = []\n",
        "speed = 0\n",
        "for i in range (0, iter):\n",
        "  \n",
        "  if i%1000 == 0:\n",
        "    vel.append(speed)\n",
        "\n",
        "  n = random.randint(0, R)\n",
        "  \n",
        "  if n == 0:\n",
        "    \n",
        "    k = random.randint(0, 1)\n",
        "    if k == 0:\n",
        "      dE = -En(sig, mul)\n",
        "      x_dis_new = (x_dis - 1) % W\n",
        "    \n",
        "    else:\n",
        "      dE = En(sig, mul)  \n",
        "      x_dis_new = (x_dis + 1) % W\n",
        "\n",
        "    bd = Bn(dE)\n",
        "    n = random.random()\n",
        "    \n",
        "    if n < bd:\n",
        "      if (x_dis_new, y_dis) not in loc_set:\n",
        "        loc_set.remove((x_dis, y_dis))\n",
        "        loc_set.add((x_dis_new, y_dis))\n",
        "        array[x_dis][y_dis] = 0\n",
        "        array[x_dis_new][y_dis] = -1\n",
        "      else:  \n",
        "        sol_loc.remove([x_dis_new, y_dis])\n",
        "        sol_loc.append([x_dis, y_dis])\n",
        "        array[x_dis][y_dis] = 1\n",
        "        array[x_dis_new][y_dis] = -1\n",
        "\n",
        "      x_dis = x_dis_new\n",
        "      speed = speed + (2*k - 1)\n",
        "    \n",
        "    if x_dis==0:\n",
        "      randomize(array, loc_set, sol_loc) \n",
        "\n",
        "  else:\n",
        "    n = random.randint(0, sol-1)\n",
        "    x = sol_loc[n][0]\n",
        "    y = sol_loc[n][1]\n",
        "  \n",
        "    for i in range(4):\n",
        "      xi = x\n",
        "      yi = y\n",
        "    \n",
        "      if (i==0):\n",
        "        xi = (x - 1) % W\n",
        "      elif (i==1):\n",
        "        yi = (y - 1) % H\n",
        "      elif (i==2):\n",
        "        xi = (x + 1) % W\n",
        "      else:\n",
        "        yi = (y + 1) % H\n",
        "      \n",
        "      if ((xi, yi) not in loc_set):\n",
        "        \n",
        "        X = (x - x_dis) / W\n",
        "        Y = (y - y_dis) / H\n",
        "        Xi = (xi - x_dis) / W\n",
        "        Yi = (yi - y_dis) / H\n",
        "        \n",
        "\n",
        "        delE = E(Xi, Yi, W, H) - E(X, Y, W, H)\n",
        "        n = random.random()\n",
        "        b = B(delE)\n",
        "\n",
        "        if n < b:\n",
        "          m = random.random()\n",
        "          if delE*200 < 0 or m>0.8:\n",
        "            array[x][y] = 0\n",
        "            array[xi][yi] = 1\n",
        "\n",
        "            loc_set.remove((x, y))\n",
        "            loc_set.add((xi, yi))\n",
        "            sol_loc.append([xi, yi])\n",
        "            sol_loc.remove([x, y])\n",
        "            \n",
        "            break\n",
        "\n"
      ],
      "execution_count": null,
      "outputs": [
        {
          "output_type": "stream",
          "text": [
            "Enter Number of Iterations: 10000\n"
          ],
          "name": "stdout"
        }
      ]
    },
    {
      "cell_type": "code",
      "metadata": {
        "colab": {
          "base_uri": "https://localhost:8080/",
          "height": 575
        },
        "id": "H45rfs5BhNbu",
        "outputId": "8a24e631-2f53-4a2b-e3d9-5f2f2518830c"
      },
      "source": [
        "#plotting image\n",
        "plt.grid(False)\n",
        "plt.axis('off')\n",
        "image = plt.imshow(array, interpolation='nearest')\n",
        "plt.show()"
      ],
      "execution_count": null,
      "outputs": [
        {
          "output_type": "display_data",
          "data": {
            "image/png": "[encoded data removed]",
            "text/plain": [
              "<Figure size 720x720 with 1 Axes>"
            ]
          },
          "metadata": {
            "tags": [],
            "needs_background": "light"
          }
        }
      ]
    },
    {
      "cell_type": "code",
      "metadata": {
        "id": "z1nGyft7kjdj",
        "colab": {
          "base_uri": "https://localhost:8080/",
          "height": 296
        },
        "outputId": "831383a1-0e0c-4211-f2c3-d60692fe4b1a"
      },
      "source": [
        ""
      ],
      "execution_count": 19,
      "outputs": [
        {
          "output_type": "execute_result",
          "data": {
            "text/plain": [
              "Text(0, 0.5, 'Velocity of Dislocation')"
            ]
          },
          "metadata": {
            "tags": []
          },
          "execution_count": 19
        },
        {
          "output_type": "display_data",
          "data": {
            "image/png": "[encoded data removed]",
            "text/plain": [
              "<Figure size 432x288 with 1 Axes>"
            ]
          },
          "metadata": {
            "tags": [],
            "needs_background": "light"
          }
        }
      ]
    },
    {
      "cell_type": "code",
      "metadata": {
        "id": "TQCeS8SzZ6nV"
      },
      "source": [
        ""
      ],
      "execution_count": null,
      "outputs": []
    }
  ]
}