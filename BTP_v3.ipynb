{
  "nbformat": 4,
  "nbformat_minor": 0,
  "metadata": {
    "colab": {
      "name": "BTP_v3",
      "provenance": [],
      "authorship_tag": "ABX9TyMyP0ndVG3d4pF/uXE8Bi32",
      "include_colab_link": true
    },
    "kernelspec": {
      "name": "python3",
      "display_name": "Python 3"
    },
    "language_info": {
      "name": "python"
    }
  },
  "cells": [
    {
      "cell_type": "markdown",
      "metadata": {
        "id": "view-in-github",
        "colab_type": "text"
      },
      "source": [
        "<a href=\"https://colab.research.google.com/github/AbhayMudgal/BTP/blob/main/BTP_v3.ipynb\" target=\"_parent\"><img src=\"https://colab.research.google.com/assets/colab-badge.svg\" alt=\"Open In Colab\"/></a>"
      ]
    },
    {
      "cell_type": "code",
      "metadata": {
        "id": "Z_2sW8DZ7DW7"
      },
      "source": [
        "import numpy as np\n",
        "import math\n",
        "import matplotlib.pyplot as plt\n",
        "import seaborn as sns\n",
        "import random\n",
        "\n",
        "\n",
        "%matplotlib inline \n",
        "plt.rcParams[\"figure.figsize\"] = (10,10)\n"
      ],
      "execution_count": 1,
      "outputs": []
    },
    {
      "cell_type": "code",
      "metadata": {
        "id": "Zc277Dlo9Cts"
      },
      "source": [
        "def B(delE):\n",
        "  # Meteropolis function for the solute atoms\n",
        "  dE = -delE * 200\n",
        "  if dE > 1:\n",
        "    dE = 1\n",
        "  U = math.exp(dE)\n",
        "  if dE < -5:\n",
        "    U = 0\n",
        "  return min(U, 1)\n",
        "\n",
        "def E( X, Y, W, H):\n",
        "  # Energy function for the solute atoms\n",
        "  pi = np.pi\n",
        "  ans = 0\n",
        "  for i in range(-4, 5):\n",
        "    ans += ( np.sin(2*pi*Y) / ( np.cosh(2*pi*(X - (i*W/H))) - np.cos(2* pi *Y)))\n",
        "  \n",
        "  return ans\n",
        "\n",
        "def En(sig, mul):\n",
        "  # Energy function for the dislocation\n",
        "  E_prime = sig*mul\n",
        "  return E_prime\n",
        "\n",
        "def Bn(delE):\n",
        "  # Meteropolis function for the dislocation\n",
        "  deE = delE\n",
        "  if deE > 1:\n",
        "    deE = 1\n",
        "  U = math.exp(deE)\n",
        "  if deE < -5:\n",
        "    U = 0\n",
        "  return min(U, 1)\n",
        "\n",
        "\n",
        "def randomize(array, loc_set, sol_loc, H):\n",
        "  for [x, y] in sol_loc:\n",
        "    flag = True\n",
        "    while flag:\n",
        "      y_new = random.randint(0, H-1)\n",
        "      if [x, y_new] not in sol_loc:\n",
        "        loc_set.remove((x, y))\n",
        "        loc_set.add((x, y_new))\n",
        "        sol_loc.remove([x, y])\n",
        "        sol_loc.append([x, y_new])\n",
        "        array[x][y] = 0\n",
        "        array[x][y_new] = 1\n",
        "        flag = False\n"
      ],
      "execution_count": 42,
      "outputs": []
    },
    {
      "cell_type": "code",
      "metadata": {
        "id": "tPgy0zTHg8yQ"
      },
      "source": [
        "#Code for testing dislocation motion algorithm as described in the paper.\n",
        "\n",
        "W = int (input(\"Enter Width of the simulation cell: \"))\n",
        "H = int (input(\"Enter Height of the simulation cell: \"))\n",
        "iter = int (input(\"Enter number of iterations: \"))\n",
        "mul = float (input(\"Enter Multiplier for external stress in Meteropolis Function: \"))\n",
        "\n",
        "cum = []\n",
        "sig = 0.001\n",
        "\n",
        "x = []\n",
        "while sig<=0.04:\n",
        "  array = np.zeros((W, H), int)\n",
        "  x_dis = int (W/2)\n",
        "  y_dis = int (H/2)\n",
        "\n",
        "  array[x_dis][y_dis] = -1\n",
        "\n",
        "\n",
        "  vel = []\n",
        "  k = 0\n",
        "  i = 0\n",
        "  for i in range(iter):\n",
        "    U = random.randint(0, 1)\n",
        "    \n",
        "    if U == 0:\n",
        "      dE = -En(sig, mul)\n",
        "      x_dis_new = (x_dis - 1) % W\n",
        "    \n",
        "    else:\n",
        "      dE = En(sig, mul)  \n",
        "      x_dis_new = (x_dis + 1) % W\n",
        "\n",
        "    bd = Bn(dE)\n",
        "    n = random.random()\n",
        "    \n",
        "    if n<bd:\n",
        "      array[x_dis][y_dis] = 0\n",
        "      x_dis = x_dis_new\n",
        "      array[x_dis][y_dis] = -1\n",
        "      k = k + (2*U - 1)\n",
        "    \n",
        "    if i%10000 == 0:\n",
        "      vel.append(k)\n",
        "  \n",
        "  x.append(sig)\n",
        "  sig += 0.001\n",
        "  cum.append(vel)    \n",
        "\n",
        "y = []\n",
        "for row in cum:\n",
        "  sum = row[0]\n",
        "  for i in range(len(row) - 1):\n",
        "     sum += row[i+1] - row[i] \n",
        "  sum = sum / len(row)\n",
        "  y.append(sum/10000)\n",
        "\n",
        "plt.plot(x, y)\n",
        "plt.xlabel(\"External Stress\")\n",
        "plt.ylabel(\"Velocity of Dislocation\")"
      ],
      "execution_count": null,
      "outputs": []
    },
    {
      "cell_type": "code",
      "metadata": {
        "colab": {
          "base_uri": "https://localhost:8080/"
        },
        "id": "s-0qaxLz9TL7",
        "outputId": "1a224890-ebcd-43f7-f2f0-8a20ca263ee9"
      },
      "source": [
        "\n",
        "#entering parameters and calculating the number of solute atoms.\n",
        "conc = float (input(\"Enter percentage concentration of solute: \"))\n",
        "Mr = float (input(\"Enter mobility ratio: \"))\n",
        "sig = float (input(\"Enter external stress as a function of G: \"))\n",
        "mul = float (input(\"Enter Multiplier for external stress in Meteropolis Function: \")) #(100 or 50)"
      ],
      "execution_count": 25,
      "outputs": [
        {
          "output_type": "stream",
          "text": [
            "Enter percentage concentration of solute: 0.1\n",
            "Enter mobility ratio: 0.01\n",
            "Enter external stress as a function of G: 0.02\n",
            "Enter Multiplier for external stress in Meteropolis Function: 100\n"
          ],
          "name": "stdout"
        }
      ]
    },
    {
      "cell_type": "code",
      "metadata": {
        "colab": {
          "base_uri": "https://localhost:8080/"
        },
        "id": "tlHu6yY9ILuW",
        "outputId": "2c739662-315a-47cc-b38e-62a2441ef422"
      },
      "source": [
        "W = int (input(\"Enter Width of the simulation cell: \"))\n",
        "H = int (input(\"Enter Height of the simulation cell: \"))"
      ],
      "execution_count": 26,
      "outputs": [
        {
          "output_type": "stream",
          "text": [
            "Enter Width of the simulation cell: 1000\n",
            "Enter Height of the simulation cell: 200\n"
          ],
          "name": "stdout"
        }
      ]
    },
    {
      "cell_type": "code",
      "metadata": {
        "id": "HJ89GtWC9nMo"
      },
      "source": [
        "#initializing array  and randomly distributing solutes in the matrix\n",
        "\n",
        "array = np.zeros((W, H), int)\n",
        "\n",
        "sol_loc = []\n",
        "loc_set = set()\n",
        "sol = (H*W*conc)/100\n",
        "a = 0\n",
        "R = sol*Mr\n",
        "\n",
        "while (a < sol):\n",
        "  for i in range(W):\n",
        "    for j in range(H):\n",
        "      num = random.randint(0, int (math.sqrt(W*H)))\n",
        "      \n",
        "      if (num == int (math.sqrt(W*H))) and (array[i][j] == 0):\n",
        "        array[i][j] = 1\n",
        "        sol_loc.append([i, j])\n",
        "        loc_set.add((i, j))\n",
        "        a = a+1    \n",
        "      \n",
        "      if (a==sol): \n",
        "        break\n",
        "    \n",
        "    if (a==sol): \n",
        "      break \n",
        "\n",
        "x_dis = int (W/2)\n",
        "y_dis = int (H/2)\n",
        "\n",
        "\n",
        "array[x_dis][y_dis] = -1\n",
        "loc_set.add((x_dis, y_dis))"
      ],
      "execution_count": 37,
      "outputs": []
    },
    {
      "cell_type": "code",
      "metadata": {
        "colab": {
          "base_uri": "https://localhost:8080/"
        },
        "id": "C3sCNF-8J2CJ",
        "outputId": "d6d5d5c2-39c0-4a4c-ca4b-02eaf1d131ee"
      },
      "source": [
        "print(sol)\n",
        "print(len(sol_loc), len(loc_set))"
      ],
      "execution_count": 39,
      "outputs": [
        {
          "output_type": "stream",
          "text": [
            "200.0\n",
            "200 201\n"
          ],
          "name": "stdout"
        }
      ]
    },
    {
      "cell_type": "code",
      "metadata": {
        "id": "3n8daw2_dIdP",
        "colab": {
          "base_uri": "https://localhost:8080/",
          "height": 1000
        },
        "outputId": "5b8e51fd-abfc-4eab-ab67-eb3cf739ec5f"
      },
      "source": [
        "#projecting the array as image\n",
        "plt.rcParams[\"figure.figsize\"] = (20,20)\n",
        "plt.grid(False)\n",
        "plt.axis('off')\n",
        "image = plt.imshow(array, interpolation='nearest')\n",
        "plt.show()"
      ],
      "execution_count": 40,
      "outputs": [
        {
          "output_type": "display_data",
          "data": {
            "image/png": "[encoded data removed]",
            "text/plain": [
              "<Figure size 1440x1440 with 1 Axes>"
            ]
          },
          "metadata": {
            "tags": [],
            "needs_background": "light"
          }
        }
      ]
    },
    {
      "cell_type": "code",
      "metadata": {
        "id": "zq_zd0f7-wbG",
        "colab": {
          "base_uri": "https://localhost:8080/"
        },
        "outputId": "7247940e-9980-4214-c3f3-e06a56e00b0f"
      },
      "source": [
        "# The main simulation algorithm. It calculates the parameters and then chooses whether \n",
        "# we move the dislocation or the a solute atom. \n",
        "\n",
        "iter = int (input(\"Enter Number of Iterations: \"))\n",
        "vel = []\n",
        "speed = 0\n",
        "for i in range (0, iter):\n",
        "  \n",
        "  if i%1000 == 0:\n",
        "    vel.append(speed)\n",
        "\n",
        "  n = random.randint(0, R)\n",
        "  \n",
        "  if n == 0:\n",
        "    \n",
        "    k = random.randint(0, 1)\n",
        "    if k == 0:\n",
        "      dE = -En(sig, mul)\n",
        "      x_dis_new = (x_dis - 1) % W\n",
        "    \n",
        "    else:\n",
        "      dE = En(sig, mul)  \n",
        "      x_dis_new = (x_dis + 1) % W\n",
        "\n",
        "    bd = Bn(dE)\n",
        "    n = random.random()\n",
        "    \n",
        "    if n < bd:\n",
        "      if (x_dis_new, y_dis) not in loc_set:\n",
        "        loc_set.remove((x_dis, y_dis))\n",
        "        loc_set.add((x_dis_new, y_dis))\n",
        "        array[x_dis][y_dis] = 0\n",
        "        array[x_dis_new][y_dis] = -1\n",
        "      else:  \n",
        "        sol_loc.remove([x_dis_new, y_dis])\n",
        "        sol_loc.append([x_dis, y_dis])\n",
        "        array[x_dis][y_dis] = 1\n",
        "        array[x_dis_new][y_dis] = -1\n",
        "\n",
        "      x_dis = x_dis_new\n",
        "      speed = speed + (2*k - 1)\n",
        "    \n",
        "    if x_dis==0:\n",
        "      randomize(array, loc_set, sol_loc, H) \n",
        "\n",
        "  else:\n",
        "    n = random.randint(0, sol-1)\n",
        "    x = sol_loc[n][0]\n",
        "    y = sol_loc[n][1]\n",
        "    k = random.randint(0, 3)\n",
        "    for i in range(4):\n",
        "      k = (k + i) % 4\n",
        "      xi = x\n",
        "      yi = y\n",
        "    \n",
        "      if (k==0):\n",
        "        xi = (x - 1) % W\n",
        "      elif (k==1):\n",
        "        yi = (y - 1) % H\n",
        "      elif (k==2):\n",
        "        xi = (x + 1) % W\n",
        "      else:\n",
        "        yi = (y + 1) % H\n",
        "      \n",
        "      if ((xi, yi) not in loc_set):\n",
        "        \n",
        "        X = (x - x_dis) / W\n",
        "        Y = (y - y_dis) / H\n",
        "        Xi = (xi - x_dis) / W\n",
        "        Yi = (yi - y_dis) / H\n",
        "        \n",
        "\n",
        "        delE = E(Xi, Yi, W, H) - E(X, Y, W, H)\n",
        "        n = random.random()\n",
        "        b = B(delE)\n",
        "\n",
        "        if n < b:\n",
        "          m = random.random()\n",
        "          if delE*200 < 0 or m>0.8:\n",
        "            array[x][y] = 0\n",
        "            array[xi][yi] = 1\n",
        "\n",
        "            loc_set.remove((x, y))\n",
        "            loc_set.add((xi, yi))\n",
        "            sol_loc.append([xi, yi])\n",
        "            sol_loc.remove([x, y])\n",
        "            \n",
        "            break\n",
        "\n"
      ],
      "execution_count": 43,
      "outputs": [
        {
          "output_type": "stream",
          "text": [
            "Enter Number of Iterations: 100000\n"
          ],
          "name": "stdout"
        }
      ]
    },
    {
      "cell_type": "code",
      "metadata": {
        "colab": {
          "base_uri": "https://localhost:8080/",
          "height": 163
        },
        "id": "BQznUatSZaSf",
        "outputId": "7ac59505-3bd5-4f2c-d106-26f4e255a3e7"
      },
      "source": [
        "print(vel)"
      ],
      "execution_count": 46,
      "outputs": [
        {
          "output_type": "error",
          "ename": "TypeError",
          "evalue": "ignored",
          "traceback": [
            "\u001b[0;31m---------------------------------------------------------------------------\u001b[0m",
            "\u001b[0;31mTypeError\u001b[0m                                 Traceback (most recent call last)",
            "\u001b[0;32m<ipython-input-46-2f53997722a8>\u001b[0m in \u001b[0;36m<module>\u001b[0;34m()\u001b[0m\n\u001b[0;32m----> 1\u001b[0;31m \u001b[0mprint\u001b[0m\u001b[0;34m(\u001b[0m\u001b[0mvel\u001b[0m\u001b[0;34m/\u001b[0m\u001b[0;36m1000\u001b[0m\u001b[0;34m)\u001b[0m\u001b[0;34m\u001b[0m\u001b[0;34m\u001b[0m\u001b[0m\n\u001b[0m",
            "\u001b[0;31mTypeError\u001b[0m: unsupported operand type(s) for /: 'list' and 'int'"
          ]
        }
      ]
    },
    {
      "cell_type": "code",
      "metadata": {
        "id": "H45rfs5BhNbu",
        "colab": {
          "base_uri": "https://localhost:8080/",
          "height": 1000
        },
        "outputId": "84e06c75-385c-4d5f-af5b-5802b7e2f61f"
      },
      "source": [
        "#plotting image\n",
        "plt.grid(False)\n",
        "plt.axis('off')\n",
        "image = plt.imshow(array, interpolation='nearest')\n",
        "plt.show()"
      ],
      "execution_count": 44,
      "outputs": [
        {
          "output_type": "display_data",
          "data": {
            "image/png": "[encoded data removed]",
            "text/plain": [
              "<Figure size 1440x1440 with 1 Axes>"
            ]
          },
          "metadata": {
            "tags": [],
            "needs_background": "light"
          }
        }
      ]
    },
    {
      "cell_type": "code",
      "metadata": {
        "id": "TQCeS8SzZ6nV"
      },
      "source": [
        ""
      ],
      "execution_count": null,
      "outputs": []
    }
  ]
}