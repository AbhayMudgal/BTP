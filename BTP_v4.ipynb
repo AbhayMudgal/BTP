{
  "nbformat": 4,
  "nbformat_minor": 0,
  "metadata": {
    "colab": {
      "name": "BTP_v4",
      "provenance": [],
      "collapsed_sections": [],
      "authorship_tag": "ABX9TyM/M7TM4KAIZEMeCLOd78x4",
      "include_colab_link": true
    },
    "kernelspec": {
      "name": "python3",
      "display_name": "Python 3"
    },
    "language_info": {
      "name": "python"
    }
  },
  "cells": [
    {
      "cell_type": "markdown",
      "metadata": {
        "id": "view-in-github",
        "colab_type": "text"
      },
      "source": [
        "<a href=\"https://colab.research.google.com/github/AbhayMudgal/BTP/blob/main/BTP_v4.ipynb\" target=\"_parent\"><img src=\"https://colab.research.google.com/assets/colab-badge.svg\" alt=\"Open In Colab\"/></a>"
      ]
    },
    {
      "cell_type": "code",
      "metadata": {
        "id": "Z_2sW8DZ7DW7"
      },
      "source": [
        "import numpy as np\n",
        "import math\n",
        "import matplotlib.pyplot as plt\n",
        "import seaborn as sns\n",
        "import random\n",
        "\n",
        "%matplotlib inline \n",
        "plt.rcParams[\"figure.figsize\"] = (10,10)\n"
      ],
      "execution_count": 1,
      "outputs": []
    },
    {
      "cell_type": "code",
      "metadata": {
        "id": "Zc277Dlo9Cts"
      },
      "source": [
        "def B(delE):\n",
        "  deE = - delE * 200\n",
        "  if deE < -5:\n",
        "    deE = 0\n",
        "  if deE > 1:\n",
        "    deE = 1\n",
        "  U = math.exp(deE)\n",
        "  return min(U, 1)\n",
        "\n",
        "def E( X, Y, W, H, sign):\n",
        "  pi = np.pi\n",
        "  ans = 0\n",
        "  for i in range(-4, 5):\n",
        "    ans += ( np.sin(2*pi*Y) / ( np.cosh(2*pi*(X - (i*W/H))) - np.cos(2* pi *Y)))\n",
        "  \n",
        "  return ans*sign\n",
        " \n"
      ],
      "execution_count": 2,
      "outputs": []
    },
    {
      "cell_type": "code",
      "metadata": {
        "colab": {
          "base_uri": "https://localhost:8080/"
        },
        "id": "s-0qaxLz9TL7",
        "outputId": "b8455648-d6d5-4071-9387-12ef417a4d26"
      },
      "source": [
        "#entering parameters and calculating the number of solute atoms.\n",
        "\n",
        "conc1 = float (input(\"Enter percentage concentration of solute1: \"))\n",
        "conc2 = float (input(\"Enter percentage concentration of solute2: \"))\n",
        "\n",
        "sign1 = float (input(\"Enter Relative Volume of Solute1: \"))\n",
        "sign2 = float (input(\"Enter Relative Volume of Solute2: \"))\n",
        "\n",
        "#Mr1 = float (input(\"Enter mobility ratio of solute1: \"))\n",
        "#Mr2 = float (input(\"Enter mobility ratio of solute2: \"))\n"
      ],
      "execution_count": 19,
      "outputs": [
        {
          "output_type": "stream",
          "text": [
            "Enter percentage concentration of solute1: 0.5\n",
            "Enter percentage concentration of solute2: 0.5\n",
            "Enter Relative Volume of Solute1: 1\n",
            "Enter Relative Volume of Solute2: -1\n"
          ],
          "name": "stdout"
        }
      ]
    },
    {
      "cell_type": "code",
      "metadata": {
        "colab": {
          "base_uri": "https://localhost:8080/"
        },
        "id": "tlHu6yY9ILuW",
        "outputId": "dd83b3f8-2d34-41ba-bc13-6dc287f25248"
      },
      "source": [
        "W = int (input(\"Enter Width of the simulation cell: \"))\n",
        "H = int (input(\"Enter Height of the simulation cell: \"))"
      ],
      "execution_count": 11,
      "outputs": [
        {
          "output_type": "stream",
          "text": [
            "Enter Width of the simulation cell: 100\n",
            "Enter Height of the simulation cell: 100\n"
          ],
          "name": "stdout"
        }
      ]
    },
    {
      "cell_type": "code",
      "metadata": {
        "id": "HJ89GtWC9nMo"
      },
      "source": [
        "#initializing array  and randomly distributing solutes in the matrix\n",
        "\n",
        "array = np.zeros((W, H), int)\n",
        "\n",
        "sol_loc = []\n",
        "loc_set = set()\n",
        "sol1 = (H*W*conc1)/100\n",
        "sol2 = (H*W*conc2)/100\n",
        "a = 0\n",
        "\n",
        "x_dis = int (W/2)\n",
        "y_dis = int (H/2)\n",
        "\n",
        "\n",
        "array[x_dis][y_dis] = -1\n",
        "loc_set.add((x_dis, y_dis, 0))\n",
        "\n",
        "while (a < sol1):\n",
        "\n",
        "  x = random.randint(0, W-1)\n",
        "  y = random.randint(0, H-1)\n",
        "      \n",
        "  if array[x][y] == 0:\n",
        "    array[x][y] = 1\n",
        "    sol_loc.append([x, y, 1])\n",
        "    loc_set.add((x, y, 1))\n",
        "    a = a+1    \n",
        "      \n",
        "    if (a==sol1): \n",
        "      break \n",
        "\n",
        "while (a < sol1 + sol2):\n",
        "  x = random.randint(0, W-1)\n",
        "  y = random.randint(0, H-1)\n",
        "      \n",
        "  if array[x][y] == 0:\n",
        "    array[x][y] = 2\n",
        "    sol_loc.append([x, y, 2])\n",
        "    loc_set.add((x, y, 2))\n",
        "    a = a+1    \n",
        "      \n",
        "    if (a==sol1): \n",
        "      break "
      ],
      "execution_count": 20,
      "outputs": []
    },
    {
      "cell_type": "code",
      "metadata": {
        "colab": {
          "base_uri": "https://localhost:8080/"
        },
        "id": "3Zi3vMj-SWLA",
        "outputId": "d6ecb3f4-f4fa-4db9-a906-365f3b0b0d60"
      },
      "source": [
        "\n",
        "print(len(sol_loc))\n",
        "print(len(loc_set))"
      ],
      "execution_count": 13,
      "outputs": [
        {
          "output_type": "stream",
          "text": [
            "20\n",
            "21\n"
          ],
          "name": "stdout"
        }
      ]
    },
    {
      "cell_type": "code",
      "metadata": {
        "colab": {
          "base_uri": "https://localhost:8080/",
          "height": 303
        },
        "id": "3n8daw2_dIdP",
        "outputId": "b3a0c261-2bf9-4dc0-edca-b641d231992b"
      },
      "source": [
        "#projecting the array as image\n",
        "\n",
        "plt.grid(False)\n",
        "plt.axis('off')\n",
        "\n",
        "image = plt.imshow(array, interpolation='nearest')\n",
        "\n",
        "plt.show()"
      ],
      "execution_count": 21,
      "outputs": [
        {
          "output_type": "display_data",
          "data": {
            "image/png": "[encoded data removed]",
            "text/plain": [
              "<Figure size 360x360 with 1 Axes>"
            ]
          },
          "metadata": {
            "tags": [],
            "needs_background": "light"
          }
        }
      ]
    },
    {
      "cell_type": "code",
      "metadata": {
        "id": "zq_zd0f7-wbG",
        "colab": {
          "base_uri": "https://localhost:8080/"
        },
        "outputId": "01f3dcbb-47e7-42a0-c782-895763a15085"
      },
      "source": [
        "#randomly selecting a solute atom.\n",
        "sol = sol1 + sol2\n",
        "\n",
        "iter = int (input(\"Enter Number of Iterations: \"))\n",
        "for i in range(iter):\n",
        "    n = random.randint(0, sol-1)\n",
        "    x = sol_loc[n][0]\n",
        "    y = sol_loc[n][1]\n",
        "    ty = sol_loc[n][2]\n",
        "    for i in range(4):\n",
        "      xi = x\n",
        "      yi = y\n",
        "    \n",
        "      if (i==0):\n",
        "        xi = (x - 1) % W\n",
        "      elif (i==1):\n",
        "        yi = (y - 1) % H\n",
        "      elif (i==2):\n",
        "        xi = (x + 1) % W\n",
        "      else:\n",
        "        yi = (y + 1) % H\n",
        "      \n",
        "      if ((xi, yi, ty) not in loc_set) and (xi, yi, 3-ty) not in loc_set:\n",
        "        \n",
        "        X = (x - x_dis) / W\n",
        "        Y = (y - y_dis) / H\n",
        "        Xi = (xi - x_dis) / W\n",
        "        Yi = (yi - y_dis) / H\n",
        "        \n",
        "        if ty == 1:\n",
        "          si = sign1\n",
        "        else: \n",
        "          si = sign2  \n",
        "\n",
        "        delE = E(Xi, Yi, W, H, si) - E(X, Y, W, H, si)\n",
        "        n = random.random()\n",
        "        b = B(delE)\n",
        "\n",
        "        if n < b:\n",
        "          m = random.random()\n",
        "          if delE*200 < 0 or m>0.8:\n",
        "            array[x][y] = 0\n",
        "            array[xi][yi] = ty\n",
        "\n",
        "            loc_set.remove((x, y, ty))\n",
        "            loc_set.add((xi, yi, ty))\n",
        "            sol_loc.append([xi, yi, ty])\n",
        "            sol_loc.remove([x, y, ty])\n",
        "              \n",
        "            break\n",
        "        "
      ],
      "execution_count": 22,
      "outputs": [
        {
          "output_type": "stream",
          "text": [
            "Enter Number of Iterations: 300000\n"
          ],
          "name": "stdout"
        },
        {
          "output_type": "stream",
          "text": [
            "/usr/local/lib/python3.7/dist-packages/ipykernel_launcher.py:14: RuntimeWarning: invalid value encountered in double_scalars\n",
            "  \n"
          ],
          "name": "stderr"
        }
      ]
    },
    {
      "cell_type": "code",
      "metadata": {
        "colab": {
          "base_uri": "https://localhost:8080/",
          "height": 303
        },
        "id": "H45rfs5BhNbu",
        "outputId": "786449d8-1778-42c7-dcb4-21dd7ab29e61"
      },
      "source": [
        "plt.rcParams[\"figure.figsize\"] = (5,5)\n",
        "plt.grid(False)\n",
        "plt.axis('off')\n",
        "\n",
        "image = plt.imshow(array, interpolation='nearest')\n",
        "\n",
        "plt.show()\n"
      ],
      "execution_count": 23,
      "outputs": [
        {
          "output_type": "display_data",
          "data": {
            "image/png": "[encoded data removed]",
            "text/plain": [
              "<Figure size 360x360 with 1 Axes>"
            ]
          },
          "metadata": {
            "tags": [],
            "needs_background": "light"
          }
        }
      ]
    },
    {
      "cell_type": "code",
      "metadata": {
        "id": "tOkPeVGSZGja"
      },
      "source": [
        ""
      ],
      "execution_count": null,
      "outputs": []
    }
  ]
}