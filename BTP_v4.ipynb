{
  "nbformat": 4,
  "nbformat_minor": 0,
  "metadata": {
    "colab": {
      "name": "BTP_v4",
      "provenance": [],
      "collapsed_sections": [],
      "authorship_tag": "ABX9TyMSnonbnaVQ/+c0BJDeXxd4",
      "include_colab_link": true
    },
    "kernelspec": {
      "name": "python3",
      "display_name": "Python 3"
    },
    "language_info": {
      "name": "python"
    }
  },
  "cells": [
    {
      "cell_type": "markdown",
      "metadata": {
        "id": "view-in-github",
        "colab_type": "text"
      },
      "source": [
        "<a href=\"https://colab.research.google.com/github/AbhayMudgal/BTP/blob/main/BTP_v4.ipynb\" target=\"_parent\"><img src=\"https://colab.research.google.com/assets/colab-badge.svg\" alt=\"Open In Colab\"/></a>"
      ]
    },
    {
      "cell_type": "code",
      "metadata": {
        "id": "Z_2sW8DZ7DW7"
      },
      "source": [
        "import numpy as np\n",
        "import math\n",
        "import matplotlib.pyplot as plt\n",
        "import seaborn as sns\n",
        "import random\n",
        "\n",
        "%matplotlib inline \n",
        "plt.rcParams[\"figure.figsize\"] = (10,10)\n"
      ],
      "execution_count": null,
      "outputs": []
    },
    {
      "cell_type": "code",
      "metadata": {
        "id": "Zc277Dlo9Cts"
      },
      "source": [
        "def B(delE):\n",
        "\n",
        "  # The metropolis funtion. The multiplier 200 is taken by using the constants\n",
        "  # in ΔE/kT. It will vary is specific systems are used or other values are taken.  \n",
        "  \n",
        "  deE = - delE * 200\n",
        "  if deE < -5:\n",
        "    deE = 0\n",
        "  if deE > 1:\n",
        "    deE = 1\n",
        "  U = math.exp(deE)\n",
        "  return min(U, 1)\n",
        "\n",
        "def E( X, Y, W, H, sign):\n",
        "\n",
        "  # The Energy funtion for the interaction between solute and dislocation. We do\n",
        "  # not use the values of other variables as they are collectively assumed to a \n",
        "  # value in the metropolis function. \n",
        "  \n",
        "  pi = np.pi\n",
        "  ans = 0\n",
        "  for i in range(-4, 5):\n",
        "    ans += ( np.sin(2*pi*Y) / ( np.cosh(2*pi*(X - (i*W/H))) - np.cos(2* pi *Y)))\n",
        "  \n",
        "  return ans*sign\n",
        " \n"
      ],
      "execution_count": null,
      "outputs": []
    },
    {
      "cell_type": "code",
      "metadata": {
        "colab": {
          "base_uri": "https://localhost:8080/"
        },
        "id": "s-0qaxLz9TL7",
        "outputId": "511848e6-0cf4-498e-92d8-94bb504cb391"
      },
      "source": [
        "#entering parameters and calculating the number of solute atoms.\n",
        "\n",
        "conc1 = float (input(\"Enter percentage concentration of solute1: \"))\n",
        "conc2 = float (input(\"Enter percentage concentration of solute2: \"))\n",
        "\n",
        "sign1 = float (input(\"Enter Relative Volume of Solute1: \"))\n",
        "sign2 = float (input(\"Enter Relative Volume of Solute2: \"))\n",
        "\n",
        "#Mr1 = float (input(\"Enter mobility ratio of solute1: \"))\n",
        "#Mr2 = float (input(\"Enter mobility ratio of solute2: \"))\n"
      ],
      "execution_count": null,
      "outputs": [
        {
          "output_type": "stream",
          "text": [
            "Enter percentage concentration of solute1: 0.25\n",
            "Enter percentage concentration of solute2: 0.25\n",
            "Enter Relative Volume of Solute1: 1\n",
            "Enter Relative Volume of Solute2: -1\n"
          ],
          "name": "stdout"
        }
      ]
    },
    {
      "cell_type": "code",
      "metadata": {
        "colab": {
          "base_uri": "https://localhost:8080/"
        },
        "id": "tlHu6yY9ILuW",
        "outputId": "b2c718f6-1361-4ffa-b399-543f098285cf"
      },
      "source": [
        "W = int (input(\"Enter Width of the simulation cell: \"))\n",
        "H = int (input(\"Enter Height of the simulation cell: \"))"
      ],
      "execution_count": null,
      "outputs": [
        {
          "output_type": "stream",
          "text": [
            "Enter Width of the simulation cell: 100\n",
            "Enter Height of the simulation cell: 100\n"
          ],
          "name": "stdout"
        }
      ]
    },
    {
      "cell_type": "code",
      "metadata": {
        "id": "HJ89GtWC9nMo"
      },
      "source": [
        "#initializing array  and randomly distributing solutes in the matrix\n",
        "\n",
        "array = np.zeros((W, H), int)\n",
        "\n",
        "sol_loc = [] # represents an array with the locations of the solute atoms. \n",
        "loc_set = set() # a set containing the locations of the solute atoms and the dislocation. \n",
        "\n",
        "sol1 = (H*W*conc1)/100\n",
        "sol2 = (H*W*conc2)/100\n",
        "a = 0\n",
        "\n",
        "x_dis = int (W/2)\n",
        "y_dis = int (H/2)\n",
        "\n",
        "\n",
        "array[x_dis][y_dis] = -1\n",
        "loc_set.add((x_dis, y_dis, 0))\n",
        "\n",
        "while (a < sol1): # distributing first variety of solute.\n",
        "\n",
        "  x = random.randint(0, W-1)\n",
        "  y = random.randint(0, H-1)\n",
        "      \n",
        "  if array[x][y] == 0:\n",
        "    array[x][y] = 1\n",
        "    sol_loc.append([x, y, 1])\n",
        "    loc_set.add((x, y, 1))\n",
        "    a = a+1    \n",
        "      \n",
        "    if (a==sol1): \n",
        "      break \n",
        "\n",
        "while (a < sol1 + sol2): # distributing second variety of solute.\n",
        "  x = random.randint(0, W-1)\n",
        "  y = random.randint(0, H-1)\n",
        "      \n",
        "  if array[x][y] == 0:\n",
        "    array[x][y] = 2\n",
        "    sol_loc.append([x, y, 2])\n",
        "    loc_set.add((x, y, 2))\n",
        "    a = a+1    \n",
        "      \n",
        "    if (a==sol1): \n",
        "      break "
      ],
      "execution_count": null,
      "outputs": []
    },
    {
      "cell_type": "code",
      "metadata": {
        "colab": {
          "base_uri": "https://localhost:8080/",
          "height": 248
        },
        "id": "3n8daw2_dIdP",
        "outputId": "ff5f9dbc-1402-4996-d886-9fb0ff92ed6a"
      },
      "source": [
        "#projecting the array as image\n",
        "\n",
        "plt.rcParams[\"figure.figsize\"] = (5,5) # represents the dimensions of the image.\n",
        "# can be varied to suit the dimensions of the simulation cell. \n",
        "\n",
        "plt.grid(False)\n",
        "plt.axis('off')\n",
        "image = plt.imshow(array, interpolation='nearest')\n",
        "plt.show()"
      ],
      "execution_count": null,
      "outputs": [
        {
          "output_type": "display_data",
          "data": {
            "image/png": "[encoded data removed]",
            "text/plain": [
              "<Figure size 432x288 with 1 Axes>"
            ]
          },
          "metadata": {
            "tags": [],
            "needs_background": "light"
          }
        }
      ]
    },
    {
      "cell_type": "code",
      "metadata": {
        "id": "zq_zd0f7-wbG"
      },
      "source": [
        "#randomly selecting a solute atom.\n",
        "sol = sol1 + sol2\n",
        "\n",
        "iter = int (input(\"Enter Number of Iterations: \"))\n",
        "for i in range(iter):\n",
        "   \n",
        "   # The if statement is the code for downloading the of the simulation cell. \n",
        "   # Create a folder image on the device and copy the path and replace it with \n",
        "   # \"Image\" in the below code. This is the most time consuming step. As such for\n",
        "   # only observation we can reduce the frequency of image collection.\n",
        "\n",
        "    if i%100 == 0:\n",
        "      name = r\"Image/\" + str (int( i/100)) + \".png\"\n",
        "      plt.rcParams[\"figure.figsize\"] = (5,5)\n",
        "      plt.grid(False)\n",
        "      plt.axis('off')\n",
        "      image = plt.imshow(array, interpolation='nearest')\n",
        "      plt.savefig(name)\n",
        "    \n",
        "    \n",
        "    n = random.randint(0, sol-1) # selecting a random solute.\n",
        "    \n",
        "    x = sol_loc[n][0]\n",
        "    y = sol_loc[n][1]\n",
        "    ty = sol_loc[n][2]\n",
        "    \n",
        "    for i in range(4):\n",
        "      xi = x\n",
        "      yi = y\n",
        "    \n",
        "      if (i==0):\n",
        "        xi = (x - 1) % W\n",
        "      elif (i==1):\n",
        "        yi = (y - 1) % H\n",
        "      elif (i==2):\n",
        "        xi = (x + 1) % W\n",
        "      else:\n",
        "        yi = (y + 1) % H\n",
        "      \n",
        "      if ((xi, yi, ty) not in loc_set) and (xi, yi, 3-ty) not in loc_set: # feasibility of jump\n",
        "        \n",
        "        X = (x - x_dis) / W\n",
        "        Y = (y - y_dis) / H\n",
        "        Xi = (xi - x_dis) / W\n",
        "        Yi = (yi - y_dis) / H\n",
        "        \n",
        "        if ty == 1:\n",
        "          si = sign1\n",
        "        else: \n",
        "          si = sign2  \n",
        "\n",
        "        delE = E(Xi, Yi, W, H, si) - E(X, Y, W, H, si)\n",
        "        n = random.random()\n",
        "        b = B(delE)\n",
        "\n",
        "        if n < b:\n",
        "          m = random.random()\n",
        "          if delE*200 < 0 or m>0.8:\n",
        "            array[x][y] = 0\n",
        "            array[xi][yi] = ty\n",
        "\n",
        "            loc_set.remove((x, y, ty))\n",
        "            loc_set.add((xi, yi, ty))\n",
        "            sol_loc.append([xi, yi, ty])\n",
        "            sol_loc.remove([x, y, ty])\n",
        "              \n",
        "            break\n",
        "        "
      ],
      "execution_count": null,
      "outputs": []
    },
    {
      "cell_type": "code",
      "metadata": {
        "id": "JcFa_IWR54AB"
      },
      "source": [
        "# if used in colab this code can be used to create a downloadable zip file. \n",
        "!zip -r /content/Image.zip /content/Image"
      ],
      "execution_count": null,
      "outputs": []
    },
    {
      "cell_type": "code",
      "metadata": {
        "colab": {
          "base_uri": "https://localhost:8080/",
          "height": 303
        },
        "id": "H45rfs5BhNbu",
        "outputId": "d14bb5f3-03f6-4c83-bc20-30c27d84d6c6"
      },
      "source": [
        "#Plotting the image\n",
        "plt.rcParams[\"figure.figsize\"] = (5,5)\n",
        "plt.grid(False)\n",
        "plt.axis('off')\n",
        "image = plt.imshow(array, interpolation='nearest')\n",
        "plt.show()"
      ],
      "execution_count": null,
      "outputs": [
        {
          "output_type": "display_data",
          "data": {
            "image/png": "[encoded data removed]",
            "text/plain": [
              "<Figure size 360x360 with 1 Axes>"
            ]
          },
          "metadata": {
            "tags": [],
            "needs_background": "light"
          }
        }
      ]
    }
  ]
}