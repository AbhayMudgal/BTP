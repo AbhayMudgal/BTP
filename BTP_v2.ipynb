{
  "nbformat": 4,
  "nbformat_minor": 0,
  "metadata": {
    "colab": {
      "name": "BTP_v2",
      "provenance": [],
      "collapsed_sections": [],
      "mount_file_id": "1vhjxRadtjjK8FCnmsBG1PFM7Q-Qujs9u",
      "authorship_tag": "ABX9TyPBYDr13T83WgcrtlKeB9ZS",
      "include_colab_link": true
    },
    "kernelspec": {
      "name": "python3",
      "display_name": "Python 3"
    },
    "language_info": {
      "name": "python"
    }
  },
  "cells": [
    {
      "cell_type": "markdown",
      "metadata": {
        "id": "view-in-github",
        "colab_type": "text"
      },
      "source": [
        "<a href=\"https://colab.research.google.com/github/AbhayMudgal/BTP/blob/main/BTP_v2.ipynb\" target=\"_parent\"><img src=\"https://colab.research.google.com/assets/colab-badge.svg\" alt=\"Open In Colab\"/></a>"
      ]
    },
    {
      "cell_type": "code",
      "metadata": {
        "id": "Z_2sW8DZ7DW7"
      },
      "source": [
        "# Static Dislocation Results\n",
        "import numpy as np\n",
        "import math\n",
        "import matplotlib.pyplot as plt\n",
        "import random\n",
        " \n",
        "plt.rcParams[\"figure.figsize\"] = (10,10)"
      ],
      "execution_count": null,
      "outputs": []
    },
    {
      "cell_type": "code",
      "metadata": {
        "id": "Zc277Dlo9Cts"
      },
      "source": [
        "def B(delE):\n",
        "  \n",
        "  # The metropolis funtion. The multiplier 200 is taken by using the constants\n",
        "  # in ΔE/kT. It will vary is specific systems are used or other values are taken.  \n",
        "  \n",
        "  deE = -delE * 200\n",
        "  if deE > 1:\n",
        "    deE = 1\n",
        "  U = math.exp(deE)\n",
        "  if dE < -5:\n",
        "    U = 0\n",
        "    \n",
        "  return min(U, 1)\n",
        "\n",
        "def E( X, Y, W, H):\n",
        "\n",
        "  # The Energy funtion for the interaction between solute and dislocation. We do\n",
        "  # not use the values of other variables as they are collectively assumed to a \n",
        "  # value in the metropolis function. \n",
        "  pi = np.pi\n",
        "  ans = 0\n",
        "  for i in range(-4, 5):\n",
        "    ans += ( np.sin(2*pi*Y) / ( np.cosh(2*pi*(X - (i*W/H))) - np.cos(2* pi *Y)))\n",
        "  \n",
        "  return ans\n"
      ],
      "execution_count": null,
      "outputs": []
    },
    {
      "cell_type": "code",
      "metadata": {
        "colab": {
          "base_uri": "https://localhost:8080/"
        },
        "id": "s-0qaxLz9TL7",
        "outputId": "30a2bd1a-9123-4588-b2f1-28f2608549c1"
      },
      "source": [
        "#entering parameters for the simulation.\n",
        "\n",
        "conc = float (input(\"Enter percentage concentration of solute: \"))\n",
        "W = int (input(\"Enter Width of the simulation cell: \"))\n",
        "H = int (input(\"Enter Height of the simulation cell: \"))"
      ],
      "execution_count": null,
      "outputs": [
        {
          "output_type": "stream",
          "text": [
            "Enter percentage concentration of solute: 0.5\n",
            "Enter Width of the simulation cell: 200\n",
            "Enter Height of the simulation cell: 100\n"
          ],
          "name": "stdout"
        }
      ]
    },
    {
      "cell_type": "code",
      "metadata": {
        "id": "HJ89GtWC9nMo"
      },
      "source": [
        "#initializing array  and randomly distributing solutes in the matrix\n",
        "\n",
        "array = np.zeros((W, H), int)\n",
        "\n",
        "sol_loc = [] # represents an array with the locations of the solute atoms. \n",
        "loc_set = set() # a set containing the locations of the solute atoms and the dislocation. \n",
        "\n",
        "sol = (H*W*conc)/100\n",
        "a = 0\n",
        "\n",
        "x_dis = int (W/2)\n",
        "y_dis = int (H/2)\n",
        "\n",
        "array[x_dis][y_dis] = -1\n",
        "loc_set.add((x_dis, y_dis))\n",
        "\n",
        "while (a < sol):\n",
        "  i = random.randint(0, W-1)\n",
        "  j = random.randint(0, H-1)\n",
        "\n",
        "  if array[i][j] == 0:\n",
        "    array[i][j] = 1\n",
        "    a += 1\n",
        "    loc_set.add((i, j))\n",
        "    sol_loc.append([i, j])   \n",
        "      \n",
        "  if (a==sol): \n",
        "    break \n"
      ],
      "execution_count": null,
      "outputs": []
    },
    {
      "cell_type": "code",
      "metadata": {
        "colab": {
          "base_uri": "https://localhost:8080/",
          "height": 303
        },
        "id": "3n8daw2_dIdP",
        "outputId": "17007365-9d65-4cd4-9892-5524aea0f33e"
      },
      "source": [
        "#projecting the array as image\n",
        "\n",
        "plt.rcParams[\"figure.figsize\"] = (5,5) # represents the dimensions of the image.\n",
        "# can be varied to suit the dimensions of the simulation cell. \n",
        "\n",
        "plt.grid(False)\n",
        "plt.axis('off')\n",
        "image = plt.imshow(array, interpolation='nearest')\n",
        "plt.show()"
      ],
      "execution_count": null,
      "outputs": [
        {
          "output_type": "display_data",
          "data": {
            "image/png": "[encoded data removed]",
            "text/plain": [
              "<Figure size 360x360 with 1 Axes>"
            ]
          },
          "metadata": {
            "tags": [],
            "needs_background": "light"
          }
        }
      ]
    },
    {
      "cell_type": "code",
      "metadata": {
        "id": "zq_zd0f7-wbG"
      },
      "source": [
        "# Running the simulation.\n",
        "\n",
        "\n",
        "iter = int (input(\"Enter Number of Iterations: \"))\n",
        "for i in range (0, iter):\n",
        "    \n",
        "   # The if statement is the code for downloading the of the simulation cell. \n",
        "   # Create a folder image on the device and copy the path and replace it with \n",
        "   # \"Image\" in the below code. This is the most time consuming step. As such for\n",
        "   # only observation we can reduce the frequency of image collection.\n",
        "   if i%100 == 0:\n",
        "     name = r\"Image/download\" + str (int( i/100)) + \".png\"\n",
        "     plt.rcParams[\"figure.figsize\"] = (5,5)\n",
        "     plt.grid(False)\n",
        "     plt.axis('off')\n",
        "     image = plt.imshow(array, interpolation='nearest')\n",
        "     plt.savefig(name)\n",
        "\n",
        "    n = random.randint(0, sol-1) # selecting a random solute.\n",
        "    x = sol_loc[n][0]\n",
        "    y = sol_loc[n][1]\n",
        "  \n",
        "    for i in range(4):\n",
        "      xi = x\n",
        "      yi = y\n",
        "    \n",
        "      if (i==0):\n",
        "        xi = (x - 1) % W\n",
        "      elif (i==1):\n",
        "        yi = (y - 1) % H\n",
        "      elif (i==2):\n",
        "        xi = (x + 1) % W\n",
        "      else:\n",
        "        yi = (y + 1) % H\n",
        "      \n",
        "      if ((xi, yi) not in loc_set): # feasibility of jump\n",
        "        \n",
        "        X = (x - x_dis) / W\n",
        "        Y = (y - y_dis) / H\n",
        "        Xi = (xi - x_dis) / W\n",
        "        Yi = (yi - y_dis) / H\n",
        "        \n",
        "\n",
        "        delE = E(Xi, Yi, W, H) - E(X, Y, W, H)\n",
        "        n = random.random()\n",
        "        b = B(delE)\n",
        "\n",
        "        if n < b:\n",
        "          m = random.random()\n",
        "          if delE*200 < 0 or m>0.8:\n",
        "            array[x][y] = 0\n",
        "            array[xi][yi] = 1\n",
        "\n",
        "            loc_set.remove((x, y))\n",
        "            loc_set.add((xi, yi))\n",
        "            sol_loc.append([xi, yi])\n",
        "            sol_loc.remove([x, y])\n",
        "            \n",
        "            break"
      ],
      "execution_count": null,
      "outputs": []
    },
    {
      "cell_type": "code",
      "metadata": {
        "id": "KI26ZhOBCktD"
      },
      "source": [
        "#projecting the array as image\n",
        "plt.rcParams[\"figure.figsize\"] = (5,5)\n",
        "plt.grid(False)\n",
        "plt.axis('off')\n",
        "image = plt.imshow(array, interpolation='nearest')\n",
        "plt.show()"
      ],
      "execution_count": null,
      "outputs": []
    },
    {
      "cell_type": "code",
      "metadata": {
        "colab": {
          "base_uri": "https://localhost:8080/"
        },
        "id": "1OkxqRRltRn2",
        "outputId": "a9293f2b-3020-4638-c365-875ae37bdf81"
      },
      "source": [
        "# if used in colab this code can be used to create a downloadable zip file. \n",
        "!zip -r /content/Image.zip /content/Image"
      ],
      "execution_count": null,
      "outputs": [
        {
          "output_type": "stream",
          "text": [
            "  adding: content/Image/ (stored 0%)\n",
            "  adding: content/Image/download24.png (deflated 52%)\n",
            "  adding: content/Image/download35.png (deflated 57%)\n",
            "  adding: content/Image/download40.png (deflated 59%)\n",
            "  adding: content/Image/download11.png (deflated 46%)\n",
            "  adding: content/Image/download41.png (deflated 59%)\n",
            "  adding: content/Image/download36.png (deflated 57%)\n",
            "  adding: content/Image/download0.png (deflated 41%)\n",
            "  adding: content/Image/download26.png (deflated 55%)\n",
            "  adding: content/Image/download48.png (deflated 57%)\n",
            "  adding: content/Image/download4.png (deflated 46%)\n",
            "  adding: content/Image/download18.png (deflated 50%)\n",
            "  adding: content/Image/download38.png (deflated 59%)\n",
            "  adding: content/Image/download10.png (deflated 45%)\n",
            "  adding: content/Image/download20.png (deflated 51%)\n",
            "  adding: content/Image/download30.png (deflated 55%)\n",
            "  adding: content/Image/download34.png (deflated 56%)\n",
            "  adding: content/Image/download8.png (deflated 46%)\n",
            "  adding: content/Image/download31.png (deflated 55%)\n",
            "  adding: content/Image/download23.png (deflated 53%)\n",
            "  adding: content/Image/download39.png (deflated 58%)\n",
            "  adding: content/Image/download9.png (deflated 46%)\n",
            "  adding: content/Image/download33.png (deflated 58%)\n",
            "  adding: content/Image/download19.png (deflated 51%)\n",
            "  adding: content/Image/download44.png (deflated 58%)\n",
            "  adding: content/Image/download28.png (deflated 53%)\n",
            "  adding: content/Image/download29.png (deflated 55%)\n",
            "  adding: content/Image/download2.png (deflated 44%)\n",
            "  adding: content/Image/download3.png (deflated 43%)\n",
            "  adding: content/Image/download7.png (deflated 44%)\n",
            "  adding: content/Image/download13.png (deflated 48%)\n",
            "  adding: content/Image/download6.png (deflated 46%)\n",
            "  adding: content/Image/download14.png (deflated 48%)\n",
            "  adding: content/Image/download27.png (deflated 54%)\n",
            "  adding: content/Image/download17.png (deflated 48%)\n",
            "  adding: content/Image/download43.png (deflated 58%)\n",
            "  adding: content/Image/download12.png (deflated 46%)\n",
            "  adding: content/Image/download49.png (deflated 59%)\n",
            "  adding: content/Image/download15.png (deflated 48%)\n",
            "  adding: content/Image/download22.png (deflated 53%)\n",
            "  adding: content/Image/download46.png (deflated 56%)\n",
            "  adding: content/Image/download47.png (deflated 57%)\n",
            "  adding: content/Image/download1.png (deflated 42%)\n",
            "  adding: content/Image/download32.png (deflated 57%)\n",
            "  adding: content/Image/download21.png (deflated 52%)\n",
            "  adding: content/Image/download45.png (deflated 58%)\n",
            "  adding: content/Image/download37.png (deflated 59%)\n",
            "  adding: content/Image/download25.png (deflated 54%)\n",
            "  adding: content/Image/download5.png (deflated 45%)\n",
            "  adding: content/Image/download16.png (deflated 48%)\n",
            "  adding: content/Image/download42.png (deflated 58%)\n"
          ],
          "name": "stdout"
        }
      ]
    },
    {
      "cell_type": "code",
      "metadata": {
        "id": "Z4RBTbDBtnCo"
      },
      "source": [
        ""
      ],
      "execution_count": null,
      "outputs": []
    }
  ]
}