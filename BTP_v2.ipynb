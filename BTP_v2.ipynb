{
  "nbformat": 4,
  "nbformat_minor": 0,
  "metadata": {
    "colab": {
      "name": "BTP_v2",
      "provenance": [],
      "authorship_tag": "ABX9TyMtHyAXNU7HnlwJFtzMYkEn",
      "include_colab_link": true
    },
    "kernelspec": {
      "name": "python3",
      "display_name": "Python 3"
    },
    "language_info": {
      "name": "python"
    }
  },
  "cells": [
    {
      "cell_type": "markdown",
      "metadata": {
        "id": "view-in-github",
        "colab_type": "text"
      },
      "source": [
        "<a href=\"https://colab.research.google.com/github/AbhayMudgal/BTP/blob/main/BTP_v2.ipynb\" target=\"_parent\"><img src=\"https://colab.research.google.com/assets/colab-badge.svg\" alt=\"Open In Colab\"/></a>"
      ]
    },
    {
      "cell_type": "code",
      "metadata": {
        "id": "Z_2sW8DZ7DW7"
      },
      "source": [
        "import numpy as np\n",
        "import math\n",
        "import matplotlib.pyplot as plt\n",
        "import seaborn as sns\n",
        "import random\n",
        "from PIL import Image, ImageOps\n",
        "from PIL import Image\n",
        "import numpy as np\n",
        "\n",
        "%matplotlib inline \n",
        "plt.rcParams[\"figure.figsize\"] = (10,10)\n",
        "import PIL"
      ],
      "execution_count": 1,
      "outputs": []
    },
    {
      "cell_type": "code",
      "metadata": {
        "id": "Zc277Dlo9Cts"
      },
      "source": [
        "def B(delE):\n",
        "  deE = -delE * 200\n",
        "  if deE < -5:\n",
        "    deE = 0\n",
        "  if deE > 1:\n",
        "    deE = 1\n",
        "  U = math.exp(deE)\n",
        "  return min(U, 1)\n",
        "\n",
        "def E( X, Y, W, H):\n",
        "  pi = np.pi\n",
        "  ans = 0\n",
        "  for i in range(-4, 5):\n",
        "    ans += ( np.sin(2*pi*Y) / ( np.cosh(2*pi*(X - (i*W/H))) - np.cos(2* pi *Y)))\n",
        "  \n",
        "  return ans\n"
      ],
      "execution_count": 2,
      "outputs": []
    },
    {
      "cell_type": "code",
      "metadata": {
        "colab": {
          "base_uri": "https://localhost:8080/"
        },
        "id": "s-0qaxLz9TL7",
        "outputId": "213e125a-ea25-4d1a-cea6-4741b9e49c6b"
      },
      "source": [
        "#entering parameters and calculating the number of solute atoms.\n",
        "\n",
        "conc = float (input(\"Enter percentage concentration of solute: \"))\n",
        "Mr = float (input(\"Enter mobility ratio: \"))\n"
      ],
      "execution_count": 3,
      "outputs": [
        {
          "output_type": "stream",
          "text": [
            "Enter percentage concentration of solute: 1\n",
            "Enter mobility ratio: 0.01\n"
          ],
          "name": "stdout"
        }
      ]
    },
    {
      "cell_type": "code",
      "metadata": {
        "colab": {
          "base_uri": "https://localhost:8080/"
        },
        "id": "tlHu6yY9ILuW",
        "outputId": "6a299bbb-1704-4d1b-d2a0-76e7b72b20dc"
      },
      "source": [
        "W = int (input(\"Enter Width of the simulation cell: \"))\n",
        "H = int (input(\"Enter Height of the simulation cell: \"))"
      ],
      "execution_count": 4,
      "outputs": [
        {
          "output_type": "stream",
          "text": [
            "Enter Width of the simulation cell: 100\n",
            "Enter Height of the simulation cell: 100\n"
          ],
          "name": "stdout"
        }
      ]
    },
    {
      "cell_type": "code",
      "metadata": {
        "id": "HJ89GtWC9nMo"
      },
      "source": [
        "#initializing array  and randomly distributing solutes in the matrix\n",
        "\n",
        "array = np.zeros((W, H), int)\n",
        "\n",
        "sol_loc = []\n",
        "loc_set = set()\n",
        "sol = (H*W*conc)/100\n",
        "a = 0\n",
        "R = sol*Mr\n",
        "\n",
        "while (a < sol):\n",
        "  for i in range(W):\n",
        "    for j in range(H):\n",
        "      num = random.randint(0, 100)\n",
        "      \n",
        "      if (num==100) and (array[i][j] == 0):\n",
        "        array[i][j] = 1\n",
        "        sol_loc.append([i, j])\n",
        "        loc_set.add((i, j))\n",
        "        a = a+1    \n",
        "      \n",
        "      if (a==sol): \n",
        "        break\n",
        "    \n",
        "    if (a==sol): \n",
        "      break \n",
        "\n",
        "x_dis = int (W/2)\n",
        "y_dis = int (H/2)\n",
        "\n",
        "\n",
        "array[x_dis][y_dis] = -1\n",
        "loc_set.add((x_dis, y_dis))"
      ],
      "execution_count": 5,
      "outputs": []
    },
    {
      "cell_type": "code",
      "metadata": {
        "colab": {
          "base_uri": "https://localhost:8080/"
        },
        "id": "3Zi3vMj-SWLA",
        "outputId": "7ec7a844-caa5-433f-b095-4bcf4b634a9b"
      },
      "source": [
        "print(len(sol_loc))\n",
        "print(len(loc_set))"
      ],
      "execution_count": 6,
      "outputs": [
        {
          "output_type": "stream",
          "text": [
            "100\n",
            "101\n"
          ],
          "name": "stdout"
        }
      ]
    },
    {
      "cell_type": "code",
      "metadata": {
        "colab": {
          "base_uri": "https://localhost:8080/",
          "height": 248
        },
        "id": "3n8daw2_dIdP",
        "outputId": "ecfa7a79-3318-4625-d60b-2edfc260f3fc"
      },
      "source": [
        "#projecting the array as image\n",
        "\n",
        "plt.grid(False)\n",
        "plt.axis('off')\n",
        "\n",
        "image = plt.imshow(array, interpolation='nearest')\n",
        "\n",
        "plt.show()"
      ],
      "execution_count": 7,
      "outputs": [
        {
          "output_type": "display_data",
          "data": {
            "image/png": "[encoded data removed]",
            "text/plain": [
              "<Figure size 432x288 with 1 Axes>"
            ]
          },
          "metadata": {
            "tags": [],
            "needs_background": "light"
          }
        }
      ]
    },
    {
      "cell_type": "code",
      "metadata": {
        "id": "zq_zd0f7-wbG",
        "colab": {
          "base_uri": "https://localhost:8080/"
        },
        "outputId": "087ed28a-5add-4fa4-ca00-81ff76a50f8e"
      },
      "source": [
        "#randomly selecting a solute atom.\n",
        "\n",
        "iter = int (input(\"Enter Number of Iterations: \"))\n",
        "vel = []\n",
        "speed = 0\n",
        "for i in range (0, iter):\n",
        "    \n",
        "    n = random.randint(0, sol-1)\n",
        "    x = sol_loc[n][0]\n",
        "    y = sol_loc[n][1]\n",
        "  \n",
        "    for i in range(4):\n",
        "      xi = x\n",
        "      yi = y\n",
        "    \n",
        "      if (i==0):\n",
        "        xi = (x - 1) % W\n",
        "      elif (i==1):\n",
        "        yi = (y - 1) % H\n",
        "      elif (i==2):\n",
        "        xi = (x + 1) % W\n",
        "      else:\n",
        "        yi = (y + 1) % H\n",
        "      \n",
        "      if ((xi, yi) not in loc_set):\n",
        "        \n",
        "        X = (x - x_dis) / W\n",
        "        Y = (y - y_dis) / H\n",
        "        Xi = (xi - x_dis) / W\n",
        "        Yi = (yi - y_dis) / H\n",
        "        \n",
        "\n",
        "        delE = E(Xi, Yi, W, H) - E(X, Y, W, H)\n",
        "        n = random.random()\n",
        "        b = B(delE)\n",
        "\n",
        "        if n < b:\n",
        "          m = random.random()\n",
        "          if delE*200 < 0 or m>0.8:\n",
        "            array[x][y] = 0\n",
        "            array[xi][yi] = 1\n",
        "\n",
        "            loc_set.remove((x, y))\n",
        "            loc_set.add((xi, yi))\n",
        "            sol_loc.append([xi, yi])\n",
        "            sol_loc.remove([x, y])\n",
        "            \n",
        "            break\n",
        "\n"
      ],
      "execution_count": 8,
      "outputs": [
        {
          "output_type": "stream",
          "text": [
            "Enter Number of Iterations: 100000\n"
          ],
          "name": "stdout"
        }
      ]
    },
    {
      "cell_type": "code",
      "metadata": {
        "id": "KI26ZhOBCktD"
      },
      "source": [
        "#projecting the array as image\n",
        "plt.rcParams[\"figure.figsize\"] = (12,12)\n",
        "plt.grid(False)\n",
        "plt.axis('off')\n",
        "image = plt.imshow(array, interpolation='nearest')\n",
        "plt.show()"
      ],
      "execution_count": null,
      "outputs": []
    }
  ]
}