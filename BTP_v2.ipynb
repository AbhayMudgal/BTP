{
  "nbformat": 4,
  "nbformat_minor": 0,
  "metadata": {
    "colab": {
      "name": "BTP_v2",
      "provenance": [],
      "authorship_tag": "ABX9TyPGi85J35mvmUNhURv4qeS4",
      "include_colab_link": true
    },
    "kernelspec": {
      "name": "python3",
      "display_name": "Python 3"
    },
    "language_info": {
      "name": "python"
    }
  },
  "cells": [
    {
      "cell_type": "markdown",
      "metadata": {
        "id": "view-in-github",
        "colab_type": "text"
      },
      "source": [
        "<a href=\"https://colab.research.google.com/github/AbhayMudgal/BTP/blob/main/BTP_v2.ipynb\" target=\"_parent\"><img src=\"https://colab.research.google.com/assets/colab-badge.svg\" alt=\"Open In Colab\"/></a>"
      ]
    },
    {
      "cell_type": "code",
      "metadata": {
        "id": "Z_2sW8DZ7DW7"
      },
      "source": [
        "import numpy as np\n",
        "import math\n",
        "import matplotlib.pyplot as plt\n",
        "import seaborn as sns\n",
        "import random\n",
        "from PIL import Image, ImageOps\n",
        "from PIL import Image\n",
        "import numpy as np\n",
        "\n",
        "%matplotlib inline \n",
        "plt.rcParams[\"figure.figsize\"] = (10,10)\n",
        "import PIL"
      ],
      "execution_count": 75,
      "outputs": []
    },
    {
      "cell_type": "code",
      "metadata": {
        "id": "Zc277Dlo9Cts"
      },
      "source": [
        "def B(delE):\n",
        "  deE = -delE * 200\n",
        "  if deE < -5:\n",
        "    deE = 0\n",
        "  if deE > 1:\n",
        "    deE = 1\n",
        "  U = math.exp(deE)\n",
        "  return min(U, 1)\n",
        "\n",
        "def E( X, Y, W, H):\n",
        "  pi = np.pi\n",
        "  ans = 0\n",
        "  for i in range(-4, 5):\n",
        "    ans += ( np.sin(2*pi*Y) / ( np.cosh(2*pi*(X - (i*W/H))) - np.cos(2* pi *Y)))\n",
        "  \n",
        "  return ans\n",
        "\n",
        "def En(so, x, y, W, H):\n",
        "  E_prime = 0\n",
        "  for A in so:\n",
        "    a = A[0]\n",
        "    b = A[1]\n",
        "\n",
        "    ax = (a - x) / W\n",
        "    bx = (b - y) / H\n",
        "    \n",
        "    E_prime += E(ax, bx, W, H)\n",
        "  \n",
        "  return E_prime \n",
        "\n",
        "#def randomize(array, loc_set, sol_loc):\n"
      ],
      "execution_count": 78,
      "outputs": []
    },
    {
      "cell_type": "code",
      "metadata": {
        "colab": {
          "base_uri": "https://localhost:8080/"
        },
        "id": "s-0qaxLz9TL7",
        "outputId": "8e2b224f-75a4-422b-e4ca-c0ad3c63f7cf"
      },
      "source": [
        "#entering parameters and calculating the number of solute atoms.\n",
        "\n",
        "conc = float (input(\"Enter percentage concentration of solute: \"))\n",
        "k = 1.38\n",
        "T  = float (input(\"Enter Temperature: \"))\n",
        "#vs = float (input(\"Enter Volume of Solute: \"))\n",
        "#va = float (input(\"Enter Volume of Atom: \"))\n",
        "\n",
        "Mr = float (input(\"Enter mobility ratio: \"))\n",
        "#delv = sub(vs, va)\n"
      ],
      "execution_count": 90,
      "outputs": [
        {
          "output_type": "stream",
          "text": [
            "Enter percentage concentration of solute: 1\n",
            "Enter Temperature: 1200\n",
            "Enter mobility ratio: 0.1\n"
          ],
          "name": "stdout"
        }
      ]
    },
    {
      "cell_type": "code",
      "metadata": {
        "colab": {
          "base_uri": "https://localhost:8080/"
        },
        "id": "tlHu6yY9ILuW",
        "outputId": "9e705d62-d8bf-4b3f-d25d-0047273c58ea"
      },
      "source": [
        "W = int (input(\"Enter Width of the simulation cell: \"))\n",
        "H = int (input(\"Enter Height of the simulation cell: \"))\n"
      ],
      "execution_count": 62,
      "outputs": [
        {
          "output_type": "stream",
          "text": [
            "Enter Width of the simulation cell: 100\n",
            "Enter Height of the simulation cell: 100\n"
          ],
          "name": "stdout"
        }
      ]
    },
    {
      "cell_type": "code",
      "metadata": {
        "id": "HJ89GtWC9nMo"
      },
      "source": [
        "#initializing array  and randomly distributing solutes in the matrix\n",
        "\n",
        "array = np.zeros((W, H), int)\n",
        "\n",
        "sol_loc = []\n",
        "loc_set = set()\n",
        "sol = (H*W*conc)/100\n",
        "a = 0\n",
        "R = sol*Mr\n",
        "\n",
        "while (a < sol):\n",
        "  for i in range(W):\n",
        "    for j in range(H):\n",
        "      num = random.randint(0, 100)\n",
        "      \n",
        "      if (num==100) and (array[i][j] == 0):\n",
        "        array[i][j] = 1\n",
        "        sol_loc.append([i, j])\n",
        "        loc_set.add((i, j))\n",
        "        a = a+1    \n",
        "      \n",
        "      if (a==sol): \n",
        "        break\n",
        "    \n",
        "    if (a==sol): \n",
        "      break \n",
        "\n",
        "x_dis = int (W/2)\n",
        "y_dis = int (H/2)\n",
        "\n",
        "\n",
        "array[x_dis][y_dis] = -1\n",
        "loc_set.add((x_dis, y_dis))"
      ],
      "execution_count": 85,
      "outputs": []
    },
    {
      "cell_type": "code",
      "metadata": {
        "colab": {
          "base_uri": "https://localhost:8080/"
        },
        "id": "3Zi3vMj-SWLA",
        "outputId": "bc4bf7b1-efbc-4feb-e3b8-c9020d4bbd16"
      },
      "source": [
        "print(len(sol_loc))\n",
        "print(len(loc_set))"
      ],
      "execution_count": 86,
      "outputs": [
        {
          "output_type": "stream",
          "text": [
            "100\n",
            "101\n"
          ],
          "name": "stdout"
        }
      ]
    },
    {
      "cell_type": "code",
      "metadata": {
        "colab": {
          "base_uri": "https://localhost:8080/",
          "height": 593
        },
        "id": "c1NIMSKB-WcU",
        "outputId": "b1432341-da29-4188-82da-8c32e9df1215"
      },
      "source": [
        "#projecting the array as image\n",
        "\n",
        "#plt.grid(False)\n",
        "#plt.axis('off')\n",
        "plt.imshow(array, interpolation='nearest')\n",
        "plt.show()"
      ],
      "execution_count": 87,
      "outputs": [
        {
          "output_type": "display_data",
          "data": {
            "image/png": "[encoded data removed]",
            "text/plain": [
              "<Figure size 720x720 with 1 Axes>"
            ]
          },
          "metadata": {
            "tags": [],
            "needs_background": "light"
          }
        }
      ]
    },
    {
      "cell_type": "code",
      "metadata": {
        "id": "lpFavw4OcrlX"
      },
      "source": [
        "iter = int (input(\"Enter Number of Iterations: \"))\n",
        "\n",
        "for i in range(iter):\n",
        "    n = random.randint(0, sol-1)\n",
        "    x = sol_loc[n][0]\n",
        "    y = sol_loc[n][1]\n",
        "  \n",
        "    for i in range(4):\n",
        "      xi = x\n",
        "      yi = y\n",
        "    \n",
        "      if (i==0):\n",
        "        xi = (x - 1) % W\n",
        "      elif (i==1):\n",
        "        yi = (y - 1) % H\n",
        "      elif (i==2):\n",
        "        xi = (x + 1) % W\n",
        "      else:\n",
        "        yi = (y + 1) % H\n",
        "      \n",
        "      if ((xi, yi) not in loc_set):\n",
        "        \n",
        "        X = (x - x_dis) / W\n",
        "        Y = (y - y_dis) / H\n",
        "        Xi = (xi - x_dis) / W\n",
        "        Yi = (yi - y_dis) / H\n",
        "        \n",
        "\n",
        "        delE = E(Xi, Yi, W, H) - E(X, Y, W, H)\n",
        "        n = random.random()\n",
        "\n",
        "        if delE*k*T*200 < 0 or n>0.8:\n",
        "          array[x][y] = 0\n",
        "          array[xi][yi] = 1\n",
        "\n",
        "          loc_set.remove((x, y))\n",
        "          loc_set.add((xi, yi))\n",
        "          sol_loc.append([xi, yi])\n",
        "          sol_loc.remove([x, y])\n",
        "          \n",
        "          break\n"
      ],
      "execution_count": null,
      "outputs": []
    },
    {
      "cell_type": "code",
      "metadata": {
        "colab": {
          "base_uri": "https://localhost:8080/",
          "height": 575
        },
        "id": "3n8daw2_dIdP",
        "outputId": "49038261-0a07-4c9d-fd32-8855a1d00488"
      },
      "source": [
        "#projecting the array as image\n",
        "\n",
        "plt.grid(False)\n",
        "plt.axis('off')\n",
        "\n",
        "image = plt.imshow(array, interpolation='nearest')\n",
        "\n",
        "plt.show()"
      ],
      "execution_count": 67,
      "outputs": [
        {
          "output_type": "display_data",
          "data": {
            "image/png": "[encoded data removed]",
            "text/plain": [
              "<Figure size 720x720 with 1 Axes>"
            ]
          },
          "metadata": {
            "tags": [],
            "needs_background": "light"
          }
        }
      ]
    },
    {
      "cell_type": "code",
      "metadata": {
        "id": "zq_zd0f7-wbG",
        "colab": {
          "base_uri": "https://localhost:8080/"
        },
        "outputId": "4d4d311e-44fc-4324-d93a-b86a8a6f64f1"
      },
      "source": [
        "#randomly selecting a solute atom.\n",
        "\n",
        "iter = int (input(\"Enter Number of Iterations: \"))\n",
        "\n",
        "for i in range (0, iter):\n",
        "  n = random.randint(0, R)\n",
        "  k = 0\n",
        "  if n == 0:\n",
        "    x_dis_new = (x_dis + 1) % W\n",
        "    dE = En(sol_loc, x_dis_new, y_dis, W, H) - En(sol_loc, x_dis, y_dis, W, H)\n",
        "\n",
        "    bd = B(dE)\n",
        "    n = random.random()\n",
        "    if n < bd:\n",
        "      if (x_dis_new, y_dis) not in loc_set:\n",
        "        loc_set.remove((x_dis, y_dis))\n",
        "        loc_set.add((x_dis_new, y_dis))\n",
        "        array[x_dis][y_dis] = 0\n",
        "        array[x_dis_new][y_dis] = -1\n",
        "      else:  \n",
        "        sol_loc.remove([x_dis_new, y_dis])\n",
        "        sol_loc.append([x_dis, y_dis])\n",
        "        array[x_dis][y_dis] = 1\n",
        "        array[x_dis_new][y_dis] = -1\n",
        "\n",
        "      x_dis = x_dis_new\n",
        "      k = k+1\n",
        "    #if x_dis==0:\n",
        "      #randomize(array, loc_set, sol_loc) \n",
        "\n",
        "  else:\n",
        "    n = random.randint(0, sol-1)\n",
        "    x = sol_loc[n][0]\n",
        "    y = sol_loc[n][1]\n",
        "  \n",
        "    for i in range(4):\n",
        "      xi = x\n",
        "      yi = y\n",
        "    \n",
        "      if (i==0):\n",
        "        xi = (x - 1) % W\n",
        "      elif (i==1):\n",
        "        yi = (y - 1) % H\n",
        "      elif (i==2):\n",
        "        xi = (x + 1) % W\n",
        "      else:\n",
        "        yi = (y + 1) % H\n",
        "      \n",
        "      if ((xi, yi) not in loc_set):\n",
        "        \n",
        "        X = (x - x_dis) / W\n",
        "        Y = (y - y_dis) / H\n",
        "        Xi = (xi - x_dis) / W\n",
        "        Yi = (yi - y_dis) / H\n",
        "        \n",
        "\n",
        "        delE = E(Xi, Yi, W, H) - E(X, Y, W, H)\n",
        "        n = random.random()\n",
        "\n",
        "        if delE*k*T*200 < 0 or n>0.8:\n",
        "          array[x][y] = 0\n",
        "          array[xi][yi] = 1\n",
        "\n",
        "          loc_set.remove((x, y))\n",
        "          loc_set.add((xi, yi))\n",
        "          sol_loc.append([xi, yi])\n",
        "          sol_loc.remove([x, y])\n",
        "          \n",
        "          break\n",
        "      \n",
        "\n"
      ],
      "execution_count": 88,
      "outputs": [
        {
          "output_type": "stream",
          "text": [
            "Enter Number of Iterations: 1000\n"
          ],
          "name": "stdout"
        },
        {
          "output_type": "stream",
          "text": [
            "/usr/local/lib/python3.7/dist-packages/ipykernel_launcher.py:14: RuntimeWarning: invalid value encountered in double_scalars\n",
            "  \n"
          ],
          "name": "stderr"
        }
      ]
    },
    {
      "cell_type": "code",
      "metadata": {
        "colab": {
          "base_uri": "https://localhost:8080/"
        },
        "id": "oBL5hijAveKi",
        "outputId": "ec1da6b3-f4a8-426f-db77-08d8ea21b6f6"
      },
      "source": [
        "print(k)"
      ],
      "execution_count": 91,
      "outputs": [
        {
          "output_type": "stream",
          "text": [
            "1.38\n"
          ],
          "name": "stdout"
        }
      ]
    },
    {
      "cell_type": "code",
      "metadata": {
        "colab": {
          "base_uri": "https://localhost:8080/",
          "height": 575
        },
        "id": "H45rfs5BhNbu",
        "outputId": "7fe5fe12-f25a-45f8-8ed2-5de7161b34d0"
      },
      "source": [
        "plt.grid(False)\n",
        "plt.axis('off')\n",
        "\n",
        "image = plt.imshow(array, interpolation='nearest')\n",
        "\n",
        "plt.show()\n"
      ],
      "execution_count": 89,
      "outputs": [
        {
          "output_type": "display_data",
          "data": {
            "image/png": "[encoded data removed]",
            "text/plain": [
              "<Figure size 720x720 with 1 Axes>"
            ]
          },
          "metadata": {
            "tags": [],
            "needs_background": "light"
          }
        }
      ]
    },
    {
      "cell_type": "code",
      "metadata": {
        "colab": {
          "base_uri": "https://localhost:8080/",
          "height": 575
        },
        "id": "KI26ZhOBCktD",
        "outputId": "b9f56434-3246-407e-9c90-b4fb83053c60"
      },
      "source": [
        "#projecting the array as image\n",
        "\n",
        "plt.grid(False)\n",
        "plt.axis('off')\n",
        "\n",
        "image = plt.imshow(array, interpolation='nearest')\n",
        "\n",
        "plt.show()"
      ],
      "execution_count": 74,
      "outputs": [
        {
          "output_type": "display_data",
          "data": {
            "image/png": "[encoded data removed]",
            "text/plain": [
              "<Figure size 720x720 with 1 Axes>"
            ]
          },
          "metadata": {
            "tags": [],
            "needs_background": "light"
          }
        }
      ]
    },
    {
      "cell_type": "code",
      "metadata": {
        "id": "0DRJ4NtOFOhC",
        "colab": {
          "base_uri": "https://localhost:8080/"
        },
        "outputId": "b90e8aea-7ede-483b-a6a8-2abbfa4c98cb"
      },
      "source": [
        "for i in range(10):\n",
        "  print(random.randint(0, 1))"
      ],
      "execution_count": 14,
      "outputs": [
        {
          "output_type": "stream",
          "text": [
            "1\n",
            "1\n",
            "0\n",
            "1\n",
            "0\n",
            "0\n",
            "0\n",
            "0\n",
            "1\n",
            "1\n"
          ],
          "name": "stdout"
        }
      ]
    },
    {
      "cell_type": "code",
      "metadata": {
        "id": "zrrEUCBgHzkx"
      },
      "source": [
        ""
      ],
      "execution_count": null,
      "outputs": []
    }
  ]
}